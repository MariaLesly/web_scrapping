{
 "cells": [
  {
   "cell_type": "markdown",
   "id": "04d05659-38a2-4cb7-8830-099c76ec8209",
   "metadata": {},
   "source": [
    "Instrucciones Generales\n",
    "• Fecha límite: 24 de septiembre, 11:59 PM\n",
    "* .Debes crear un repositorio llamado web_scrapping.\n",
    "* Crea una carpeta llamada code y allí debes guardar todos tus scripts.\n",
    "* Para la parte 1, crea un script llamado api_reddit;\n",
    "* para la parte 2, crea un script llamado web_scrapping_bumeran.\n",
    "* Crea una carpeta llamada output y allí debes guardar todas tus salidas, csvs o conjuntos de datos.\n",
    "* También tendrás que subir un video de 3 minutos explicando todos los pasos que seguiste al crear el código.\n",
    "* Usa youtube y haz que el enlace sea accesible para que podamos verlo sin restricciones. Pega el enlace en la hoja de Google.Hoja de Google:"
   ]
  },
  {
   "cell_type": "markdown",
   "id": "d37b426f-ddc8-4573-8921-9be1a413e488",
   "metadata": {},
   "source": [
    "**Exercise 2: Bumeran — Web Scraping**"
   ]
  },
  {
   "cell_type": "markdown",
   "id": "89be52d8-338d-4970-a6a7-79ec4cd6ddbb",
   "metadata": {},
   "source": [
    "1. Estructura de ramas de Git y carpetas\n",
    "  * Dentro de tu carpeta, incluye lo siguiente:\n",
    "     *  requirements.txtTu\n",
    "     * codigo de scraping (tu notebook de Jupyter).\n",
    "     * Tu archivo CSV resultante"
   ]
  },
  {
   "cell_type": "markdown",
   "id": "79f7ba54-fefc-419c-9ff4-cc84ca272ed9",
   "metadata": {},
   "source": [
    "2. Raspa todas las ofertas de trabajo en Ciencia de Datos de la plataforma Bumeran que cumplan con los siguientes filtros (¡usando código, no a mano!)"
   ]
  },
  {
   "cell_type": "code",
   "execution_count": 1,
   "id": "b0c5f8e5-046e-4e9b-be50-08d7253a9804",
   "metadata": {},
   "outputs": [
    {
     "data": {
      "text/plain": [
       "'C:\\\\Users\\\\MILAGROS\\\\Documents\\\\GitHub\\\\PythonQlab'"
      ]
     },
     "execution_count": 1,
     "metadata": {},
     "output_type": "execute_result"
    }
   ],
   "source": [
    "import os\n",
    "# Muestra la ruta completa del notebook actual\n",
    "os.getcwd()"
   ]
  },
  {
   "cell_type": "code",
   "execution_count": 2,
   "id": "2499e2bf-a60a-4fcc-9c10-2757acff0bc0",
   "metadata": {},
   "outputs": [
    {
     "data": {
      "text/html": [
       "\n",
       "<style>\n",
       "    div#notebook-container    { width: 95%; }\n",
       "    div#menubar-container     { width: 65%; }\n",
       "    div#maintoolbar-container { width: 99%; }a\n",
       "</style>\n"
      ],
      "text/plain": [
       "<IPython.core.display.HTML object>"
      ]
     },
     "metadata": {},
     "output_type": "display_data"
    }
   ],
   "source": [
    "from IPython.display import display, HTML\n",
    "\n",
    "display(HTML(data=\"\"\"\n",
    "<style>\n",
    "    div#notebook-container    { width: 95%; }\n",
    "    div#menubar-container     { width: 65%; }\n",
    "    div#maintoolbar-container { width: 99%; }a\n",
    "</style>\n",
    "\"\"\"))"
   ]
  },
  {
   "cell_type": "code",
   "execution_count": 3,
   "id": "ddfdabca-7925-4a66-b069-32adf663c62d",
   "metadata": {},
   "outputs": [],
   "source": [
    "from selenium.webdriver.common.by import By\n",
    "from selenium.webdriver.support.ui import WebDriverWait\n",
    "from selenium.webdriver.support import expected_conditions as EC\n",
    "import os"
   ]
  },
  {
   "cell_type": "code",
   "execution_count": 4,
   "id": "1843ecac-182e-44b4-8066-5ca18ae297b9",
   "metadata": {},
   "outputs": [],
   "source": [
    "# esta biblioteca es para manipular el navegador: \n",
    "# significa que estás importando el módulo webdriver desde la biblioteca selenium, \n",
    "# que se utiliza para automatizar navegadores web como Chrome, Firefox, etc.\n",
    "from selenium import webdriver\n",
    "\n",
    "# permite trabajar con diferentes versiones de controladores o forma parte de un script de automatización web\n",
    "# Llamamos a ChromeDriver de webdriver_manager.chrome import ChromeDriverManager\n",
    "import re\n",
    "import time \n",
    "from selenium.webdriver.common.by import By"
   ]
  },
  {
   "cell_type": "code",
   "execution_count": 5,
   "id": "2e51c0b7-6fa6-43cc-94ab-b55a7c75b9f9",
   "metadata": {},
   "outputs": [],
   "source": [
    "from selenium import webdriver\n",
    "from selenium.webdriver.common.by import By\n",
    "from selenium.webdriver.support.ui import Select"
   ]
  },
  {
   "cell_type": "code",
   "execution_count": 58,
   "id": "393f1ed2-dcfb-4420-bd4d-49686b299772",
   "metadata": {},
   "outputs": [],
   "source": [
    "options = webdriver.ChromeOptions()\n",
    "driver = webdriver.Chrome(options=options)\n",
    "url = \"https://www.bumeran.com.pe/\"\n",
    "driver.get(url)\n",
    "driver.maximize_window()"
   ]
  },
  {
   "cell_type": "code",
   "execution_count": 24,
   "id": "b2c58fcf-3497-4a2a-8f02-d96dceb05d82",
   "metadata": {},
   "outputs": [
    {
     "data": {
      "text/plain": [
       "'Trabajos - Empleos | Bumeran Perú'"
      ]
     },
     "execution_count": 24,
     "metadata": {},
     "output_type": "execute_result"
    }
   ],
   "source": [
    "driver.title"
   ]
  },
  {
   "cell_type": "code",
   "execution_count": 25,
   "id": "0629aaea-cdd5-4a90-9061-1a4fa1467831",
   "metadata": {},
   "outputs": [
    {
     "data": {
      "text/plain": [
       "'https://www.bumeran.com.pe/'"
      ]
     },
     "execution_count": 25,
     "metadata": {},
     "output_type": "execute_result"
    }
   ],
   "source": [
    "driver.current_url"
   ]
  },
  {
   "cell_type": "code",
   "execution_count": 26,
   "id": "a4f77a64-8a54-4fb7-975b-a035eea1b40b",
   "metadata": {
    "collapsed": true,
    "jupyter": {
     "outputs_hidden": true
    },
    "scrolled": true
   },
   "outputs": [
    {
     "data": {
      "text/plain": [
       "[{'domain': '.bumeran.com.pe',\n",
       "  'expiry': 1793206481,\n",
       "  'httpOnly': False,\n",
       "  'name': '_ga',\n",
       "  'path': '/',\n",
       "  'sameSite': 'Lax',\n",
       "  'secure': False,\n",
       "  'value': 'GA1.1.1677340103.1758646481'},\n",
       " {'domain': '.bumeran.com.pe',\n",
       "  'expiry': 1766422481,\n",
       "  'httpOnly': False,\n",
       "  'name': '_fbp',\n",
       "  'path': '/',\n",
       "  'sameSite': 'Lax',\n",
       "  'secure': False,\n",
       "  'value': 'fb.2.1758646481344.285540517228112497'},\n",
       " {'domain': '.bumeran.com.pe',\n",
       "  'expiry': 1758732881,\n",
       "  'httpOnly': False,\n",
       "  'name': '_clsk',\n",
       "  'path': '/',\n",
       "  'sameSite': 'Lax',\n",
       "  'secure': False,\n",
       "  'value': 'sjv3o%5E1758646481090%5E1%5E1%5Ek.clarity.ms%2Fcollect'},\n",
       " {'domain': '.bumeran.com.pe',\n",
       "  'expiry': 1766422481,\n",
       "  'httpOnly': False,\n",
       "  'name': '_gcl_au',\n",
       "  'path': '/',\n",
       "  'sameSite': 'Lax',\n",
       "  'secure': False,\n",
       "  'value': '1.1.404079442.1758646481'},\n",
       " {'domain': 'www.bumeran.com.pe',\n",
       "  'expiry': 1766422481,\n",
       "  'httpOnly': False,\n",
       "  'name': 'client_id',\n",
       "  'path': '/',\n",
       "  'sameSite': 'Lax',\n",
       "  'secure': False,\n",
       "  'value': 'undefined'},\n",
       " {'domain': '.bumeran.com.pe',\n",
       "  'expiry': 1758648277,\n",
       "  'httpOnly': True,\n",
       "  'name': '__cf_bm',\n",
       "  'path': '/',\n",
       "  'sameSite': 'None',\n",
       "  'secure': True,\n",
       "  'value': 'oxvZxtVgsAtccVIYVJe8lQ6SMJTZi3_p8qnxs.6NZVw-1758646476-1.0.1.1-boEYDoPyRMEn7hqUmJSbA6iwPI72pzeOFYlGVyDzo3j.x1e.gRs55NtnUt6AAqA8LXODuq3A6fieLalJTRvaxgXR9r3XtOhwxhOcVgxr9.Y'},\n",
       " {'domain': '.bumeran.com.pe',\n",
       "  'expiry': 1790182479,\n",
       "  'httpOnly': False,\n",
       "  'name': '_clck',\n",
       "  'path': '/',\n",
       "  'sameSite': 'Lax',\n",
       "  'secure': False,\n",
       "  'value': '7omldi%5E2%5Efzk%5E0%5E2092'},\n",
       " {'domain': '.bumeran.com.pe',\n",
       "  'expiry': 1793206481,\n",
       "  'httpOnly': False,\n",
       "  'name': '_ga_K7K8FVBZVB',\n",
       "  'path': '/',\n",
       "  'sameSite': 'Lax',\n",
       "  'secure': False,\n",
       "  'value': 'GS2.1.s1758646481$o1$g1$t1758646481$j60$l0$h0'},\n",
       " {'domain': 'www.bumeran.com.pe',\n",
       "  'expiry': 1758646597,\n",
       "  'httpOnly': True,\n",
       "  'name': 'frpo-cki',\n",
       "  'path': '/',\n",
       "  'sameSite': 'Lax',\n",
       "  'secure': False,\n",
       "  'value': '\"d84cf0dc88f58ba5\"'}]"
      ]
     },
     "execution_count": 26,
     "metadata": {},
     "output_type": "execute_result"
    }
   ],
   "source": [
    "driver.get_cookies()"
   ]
  },
  {
   "cell_type": "code",
   "execution_count": 35,
   "id": "da9748bb-5935-4d9d-89b8-03b710cdbb68",
   "metadata": {},
   "outputs": [],
   "source": [
    "driver.refresh() "
   ]
  },
  {
   "cell_type": "code",
   "execution_count": 59,
   "id": "11f31c39-68f2-476d-8c98-68e221c170f1",
   "metadata": {},
   "outputs": [],
   "source": [
    "driver.find_element('xpath', '//*[@id=\"buscarTrabajo\"]').click()\n",
    "driver.implicitly_wait(5)"
   ]
  },
  {
   "cell_type": "markdown",
   "id": "6d8f04f6-3b57-4506-9579-fbd4e2f49553",
   "metadata": {},
   "source": [
    "**Filtros - Georgina**"
   ]
  },
  {
   "cell_type": "code",
   "execution_count": 60,
   "id": "393afe96-0f5e-4e2e-b253-206bd40e8ab2",
   "metadata": {},
   "outputs": [],
   "source": [
    "# FECHA DE PUBLICACION\n",
    "driver.find_element('xpath', '//*[@id=\"root\"]/div/div[2]/div[1]/div/div[2]/div[1]/div[2]/div/div[1]/button[1]/div').click()\n",
    "driver.implicitly_wait(10)"
   ]
  },
  {
   "cell_type": "code",
   "execution_count": 61,
   "id": "89bf8110-0b93-4ca2-b970-0bcf0ef795c3",
   "metadata": {},
   "outputs": [],
   "source": [
    "driver.find_element('xpath', '//*[@id=\"root\"]/div/div[2]/div[1]/div/div[2]/div[1]/div[2]/div/div[2]/div/div/button[8]').click()\n",
    "driver.implicitly_wait(5)"
   ]
  },
  {
   "cell_type": "code",
   "execution_count": null,
   "id": "2a7e4bed-2107-41e7-8415-b75c54d33eeb",
   "metadata": {},
   "outputs": [],
   "source": []
  },
  {
   "cell_type": "code",
   "execution_count": 62,
   "id": "1ca91249-529d-45f4-939b-b9e2d7ee84c8",
   "metadata": {},
   "outputs": [],
   "source": [
    "# Área\n",
    "driver.find_element('xpath', '//*[@id=\"root\"]/div/div[2]/div[1]/div/div[2]/div[1]/div[2]/div/div[1]/button[1]').click()\n",
    "driver.implicitly_wait(10)"
   ]
  },
  {
   "cell_type": "code",
   "execution_count": 63,
   "id": "5a745f92-389f-476d-a105-6f6132260ee7",
   "metadata": {},
   "outputs": [],
   "source": [
    "driver.find_element('xpath', '//*[@id=\"root\"]/div/div[2]/div[1]/div/div[2]/div[1]/div[2]/div/div[2]/div/div/button[3]').click()\n",
    "driver.implicitly_wait(5)"
   ]
  },
  {
   "cell_type": "code",
   "execution_count": null,
   "id": "646b56cb-1d3b-4f4c-ac3c-63ae8fade880",
   "metadata": {},
   "outputs": [],
   "source": []
  },
  {
   "cell_type": "code",
   "execution_count": 64,
   "id": "bf62704d-14d2-4390-829e-7be2df3761e8",
   "metadata": {},
   "outputs": [],
   "source": [
    "# Sub Área\n",
    "driver.find_element('xpath', '//*[@id=\"root\"]/div/div[2]/div[1]/div/div[2]/div[1]/div[2]/div/div[1]/button[1]').click()\n",
    "driver.implicitly_wait(10)"
   ]
  },
  {
   "cell_type": "code",
   "execution_count": 65,
   "id": "9417a9f1-da30-41af-87a4-a24c450b4145",
   "metadata": {},
   "outputs": [],
   "source": [
    "driver.find_element('xpath', '//*[@id=\"root\"]/div/div[2]/div[1]/div/div[2]/div[1]/div[2]/div/div[2]/div/div/button[2]').click()\n",
    "driver.implicitly_wait(5)"
   ]
  },
  {
   "cell_type": "code",
   "execution_count": null,
   "id": "a0d61a6b-d809-4090-8e25-3b91f2d188a5",
   "metadata": {},
   "outputs": [],
   "source": []
  },
  {
   "cell_type": "code",
   "execution_count": 66,
   "id": "6576a69e-8a75-4488-9502-f96c8e94ab05",
   "metadata": {},
   "outputs": [],
   "source": [
    "# Departamento\n",
    "driver.find_element('xpath', '//*[@id=\"root\"]/div/div[2]/div[1]/div/div[2]/div[1]/div[2]/div/div[1]/button[1]/div/i').click()\n",
    "driver.implicitly_wait(10)"
   ]
  },
  {
   "cell_type": "code",
   "execution_count": 67,
   "id": "f1d4b52d-86a7-4293-b8f6-480bd3c3f798",
   "metadata": {},
   "outputs": [],
   "source": [
    "driver.find_element('xpath', '//*[@id=\"root\"]/div/div[2]/div[1]/div/div[2]/div[1]/div[2]/div/div[2]/div/div/button[1]').click()\n",
    "driver.implicitly_wait(5)"
   ]
  },
  {
   "cell_type": "code",
   "execution_count": null,
   "id": "f1280fba-8988-442d-a7f9-74f13023bcd7",
   "metadata": {},
   "outputs": [],
   "source": []
  },
  {
   "cell_type": "code",
   "execution_count": 68,
   "id": "e62d80dc-05fe-4b3b-8d0c-9c767e988aeb",
   "metadata": {},
   "outputs": [],
   "source": [
    "# Carga Horaria\n",
    "driver.find_element('xpath', '//*[@id=\"root\"]/div/div[2]/div[1]/div/div[2]/div[1]/div[2]/div/div[1]/button[4]/div').click()\n",
    "driver.implicitly_wait(10)"
   ]
  },
  {
   "cell_type": "code",
   "execution_count": 69,
   "id": "0f8f45c1-3ec6-4f2b-a829-0013445a5d6c",
   "metadata": {},
   "outputs": [],
   "source": [
    "driver.find_element('xpath', '//*[@id=\"root\"]/div/div[2]/div[1]/div/div[2]/div[1]/div[2]/div/div[2]/div/div/button[1]').click()\n",
    "driver.implicitly_wait(5)"
   ]
  },
  {
   "cell_type": "markdown",
   "id": "aec7c241-6f8e-408a-bc71-9521b867d421",
   "metadata": {},
   "source": [
    "Me quedo con el link de estos filtros:\n",
    "* https://www.bumeran.com.pe/en-lima/empleos-area-tecnologia-sistemas-y-telecomunicaciones-subarea-programacion-full-time-publicacion-menor-a-15-dias.html"
   ]
  },
  {
   "cell_type": "markdown",
   "id": "669c785f-b095-4498-b1aa-c3d2fa3d2329",
   "metadata": {},
   "source": [
    "3. Estrategia de Raspado Sugerida (Dos Etapas)\n",
    "* Etapa 1: Extraer Enlaces de Publicaciones de TrabajoRaspa todas las URL de anuncios de trabajo basándote en los filtros anteriores.\n",
    "   * Navega a través de todas las páginas si es necesario.\n",
    "* Etapa 2: Extraer detalles del trabajo\n",
    "    * Para cada URL de trabajo recopilada en la Etapa 1, extraer lo siguiente:Título del trabajo\n",
    "    * Descripción (hasta la sección de \"Beneficios\")\n",
    "    * Distrito\n",
    "    * Modo de trabajo (por ejemplo, en el sitio, remoto, híbrido)\n"
   ]
  },
  {
   "cell_type": "markdown",
   "id": "126c5477-af50-49ff-8c4e-a1e8bee5a2f2",
   "metadata": {},
   "source": [
    "Etapa 1: Extraer enlaces de publicaciones de trabajo\n",
    " * Después de aplicar los filtros, ubicas todos los anuncios de la página.\n",
    " * De cada anuncio, extraes el enlace (href) que lleva al detalle del trabajo.\n",
    " * Si hay varias páginas, recorres con un bucle haciendo clic en el botón siguiente hasta que ya no aparezca.\n",
    "\n",
    "Consideraciones teóricas\n",
    "* De cada anuncio, extraes el enlace (href) que lleva al detalle del trabajo.\n",
    "* Esa etiqueta siempre tiene un atributo llamado href que contiene la dirección (URL)"
   ]
  },
  {
   "cell_type": "code",
   "execution_count": 42,
   "id": "dd4ba627-8a57-4065-b5eb-91a30f45f0fb",
   "metadata": {},
   "outputs": [],
   "source": [
    "# la idea es entrar a cada uno de los enlaces: \n",
    "driver.find_element('xpath', '//*[@id=\"listado-avisos\"]/div[2]/a/div/div[2]/div[1]').click()\n",
    "driver.implicitly_wait(5)\n",
    "\n",
    "# Luego jalar el link \n",
    " # https://www.bumeran.com.pe/empleos/software-engineer-senior-grupo-gloria-1117976663.html"
   ]
  },
  {
   "cell_type": "code",
   "execution_count": null,
   "id": "52c25a02-0268-428a-804a-f0820fc47e99",
   "metadata": {},
   "outputs": [],
   "source": [
    "# El link que considero para el loop despues de los filtros:\n",
    "#    \"https://www.bumeran.com.pe/en-lima/empleos-area-tecnologia-sistemas-y-telecomunicaciones-subarea-programacion-full-time-publicacion-menor-a-15-dias.html"
   ]
  },
  {
   "cell_type": "markdown",
   "id": "b7f52df9-a296-4804-ac27-396e46d0f4ff",
   "metadata": {},
   "source": [
    "**ETAPA 1 - LOOP -  GEORGINA**"
   ]
  },
  {
   "cell_type": "markdown",
   "id": "7274af23-3cbe-4bee-8dae-94b68abc2e10",
   "metadata": {},
   "source": [
    "* TANTEO CON UNA PEQUEÑA MUESTRA DE los 3 primeros casos\n",
    "  * //*[@id=\"listado-avisos\"]/div[2]/a/div/div[2]/div[1]\n",
    "  * //*[@id=\"listado-avisos\"]/div[3]/a/div/div[3]/div/div[2]\n",
    "  * //*[@id=\"listado-avisos\"]/div[4]/a/div/div[2]/div[1]/div[1]/div\n",
    "    \n",
    "* LOS LINKS QUE ME DEBERIA DAR\n",
    "  * https://www.bumeran.com.pe/empleos/analista-programador-java-1117972678.html\n",
    "  * https://www.bumeran.com.pe/empleos/programador-frontend-senior-sonda-del-peru-s.a.-1117973000.html\n",
    "  * https://www.bumeran.com.pe/empleos/analista-programador-java-1117972678.html"
   ]
  },
  {
   "cell_type": "code",
   "execution_count": 43,
   "id": "0a28f970-9623-4a9d-ab08-a28de6fea7dd",
   "metadata": {},
   "outputs": [
    {
     "name": "stdout",
     "output_type": "stream",
     "text": [
      "No apareció banner de cookies.\n",
      "https://www.bumeran.com.pe/empleos/software-engineer-senior-grupo-gloria-1117976663.html\n",
      "https://www.bumeran.com.pe/empleos/programador-frontend-senior-sonda-del-peru-s.a.-1117973000.html\n",
      "https://www.bumeran.com.pe/empleos/analista-programador-java-1117972678.html\n"
     ]
    }
   ],
   "source": [
    "driver = webdriver.Chrome()\n",
    "driver.get(\"https://www.bumeran.com.pe/en-lima/empleos-area-tecnologia-sistemas-y-telecomunicaciones-subarea-programacion-full-time-publicacion-menor-a-15-dias.html\")\n",
    "time.sleep(5)\n",
    "\n",
    "# aceptar cookies\n",
    "try:\n",
    "    cookie_button = driver.find_element(By.ID, \"onetrust-accept-btn-handler\")\n",
    "    cookie_button.click()\n",
    "    print(\"Cookies aceptadas.\")\n",
    "    time.sleep(10)\n",
    "except:\n",
    "    print(\"No apareció banner de cookies.\")\n",
    "\n",
    "# selecciona directamente los <a> dentro de listado-avisos\n",
    "jobs = driver.find_elements(By.XPATH, '//*[@id=\"listado-avisos\"]/div/a')\n",
    "\n",
    "\n",
    "for job in jobs[:3]:\n",
    "    print(job.get_attribute(\"href\"))"
   ]
  },
  {
   "cell_type": "markdown",
   "id": "ebc4cac6-bfc6-462a-ac14-c44e1cd70c9c",
   "metadata": {},
   "source": [
    "##### **GENERALIZAMOS PARALAS 113 OBSERVACIONES - Actualizado al 24/09/2025 - GEORGINA**"
   ]
  },
  {
   "cell_type": "code",
   "execution_count": null,
   "id": "e99b1ee9-c37f-4200-8cfa-7b7f8ad3c7e4",
   "metadata": {},
   "outputs": [],
   "source": [
    "driver = webdriver.Chrome()\n",
    "driver.get(\"https://www.bumeran.com.pe/en-lima/empleos-area-tecnologia-sistemas-y-telecomunicaciones-subarea-programacion-full-time-publicacion-menor-a-15-dias.html\")\n",
    "time.sleep(5)\n",
    "\n",
    "# aceptar cookies\n",
    "try:\n",
    "    cookie_button = driver.find_element(By.ID, \"onetrust-accept-btn-handler\")\n",
    "    cookie_button.click()\n",
    "    print(\"Cookies aceptadas.\")\n",
    "    time.sleep(3)\n",
    "except:\n",
    "    print(\"No apareció banner de cookies.\")\n",
    "\n",
    "all_jobs = []\n",
    "\n",
    "# recorrer páginas 1 a 6\n",
    "for page in range(1, 7):\n",
    "    print(f\"\\n=== Página {page} ===\")\n",
    "\n",
    "    # esperar que carguen los avisos\n",
    "    WebDriverWait(driver, 10).until(\n",
    "        EC.presence_of_all_elements_located((By.XPATH, '//*[@id=\"listado-avisos\"]/div/a'))\n",
    "    )\n",
    "\n",
    "    jobs = driver.find_elements(By.XPATH, '//*[@id=\"listado-avisos\"]/div/a')\n",
    "    \n",
    "    for job in jobs:\n",
    "        link = job.get_attribute(\"href\")\n",
    "        if link and link not in all_jobs:\n",
    "            all_jobs.append(link)\n",
    "            print(link)\n",
    "\n",
    "    # si no estamos en la última página, dar clic en el número correspondiente\n",
    "    if page < 6:\n",
    "        try:\n",
    "            # buscar el botón por el texto (ej: \"2\", \"3\", \"4\"...)\n",
    "            next_button = driver.find_element(By.LINK_TEXT, str(page+1))\n",
    "            driver.execute_script(\"arguments[0].click();\", next_button)\n",
    "            time.sleep(5)\n",
    "        except Exception as e:\n",
    "            print(f\"No se pudo pasar a la página {page+1}: {e}\")\n",
    "            break\n",
    "\n",
    "print(\"\\nTotal de empleos encontrados:\", len(all_jobs))\n",
    "\n"
   ]
  },
  {
   "cell_type": "code",
   "execution_count": null,
   "id": "a2cb391b-20ee-4eb2-a013-f131ea7e8774",
   "metadata": {},
   "outputs": [],
   "source": []
  }
 ],
 "metadata": {
  "kernelspec": {
   "display_name": "Python [conda env:selenium_env]",
   "language": "python",
   "name": "conda-env-selenium_env-py"
  },
  "language_info": {
   "codemirror_mode": {
    "name": "ipython",
    "version": 3
   },
   "file_extension": ".py",
   "mimetype": "text/x-python",
   "name": "python",
   "nbconvert_exporter": "python",
   "pygments_lexer": "ipython3",
   "version": "3.11.13"
  }
 },
 "nbformat": 4,
 "nbformat_minor": 5
}
