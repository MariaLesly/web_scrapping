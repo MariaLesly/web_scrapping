{
 "cells": [
  {
   "cell_type": "markdown",
   "id": "4429b50c-8cb4-495d-a3b7-9f73d159ce0d",
   "metadata": {},
   "source": [
    "## Exercise 1: Reddit API Data Collection"
   ]
  },
  {
   "cell_type": "markdown",
   "id": "2d48cf78-0e1b-4471-b22c-0edfd86737df",
   "metadata": {},
   "source": [
    "### Part 1: Reddit API Setup & Data Collection"
   ]
  },
  {
   "cell_type": "markdown",
   "id": "d773ae0e-1c4f-4d02-badb-8474348142f2",
   "metadata": {},
   "source": [
    "2. Environment Setup"
   ]
  },
  {
   "cell_type": "code",
   "execution_count": 1,
   "id": "c3cc9602-45f3-461f-b460-fc0ff0877c02",
   "metadata": {},
   "outputs": [
    {
     "name": "stdout",
     "output_type": "stream",
     "text": [
      "Requirement already satisfied: praw in c:\\users\\lenovo\\anaconda3\\envs\\webscrapping\\lib\\site-packages (7.8.1)\n",
      "Requirement already satisfied: python-dotenv in c:\\users\\lenovo\\anaconda3\\envs\\webscrapping\\lib\\site-packages (1.1.1)\n",
      "Requirement already satisfied: pandas in c:\\users\\lenovo\\anaconda3\\envs\\webscrapping\\lib\\site-packages (2.3.2)\n",
      "Requirement already satisfied: prawcore<3,>=2.4 in c:\\users\\lenovo\\anaconda3\\envs\\webscrapping\\lib\\site-packages (from praw) (2.4.0)\n",
      "Requirement already satisfied: update_checker>=0.18 in c:\\users\\lenovo\\anaconda3\\envs\\webscrapping\\lib\\site-packages (from praw) (0.18.0)\n",
      "Requirement already satisfied: websocket-client>=0.54.0 in c:\\users\\lenovo\\anaconda3\\envs\\webscrapping\\lib\\site-packages (from praw) (1.8.0)\n",
      "Requirement already satisfied: requests<3.0,>=2.6.0 in c:\\users\\lenovo\\anaconda3\\envs\\webscrapping\\lib\\site-packages (from prawcore<3,>=2.4->praw) (2.32.5)\n",
      "Requirement already satisfied: charset_normalizer<4,>=2 in c:\\users\\lenovo\\anaconda3\\envs\\webscrapping\\lib\\site-packages (from requests<3.0,>=2.6.0->prawcore<3,>=2.4->praw) (3.3.2)\n",
      "Requirement already satisfied: idna<4,>=2.5 in c:\\users\\lenovo\\anaconda3\\envs\\webscrapping\\lib\\site-packages (from requests<3.0,>=2.6.0->prawcore<3,>=2.4->praw) (3.7)\n",
      "Requirement already satisfied: urllib3<3,>=1.21.1 in c:\\users\\lenovo\\anaconda3\\envs\\webscrapping\\lib\\site-packages (from requests<3.0,>=2.6.0->prawcore<3,>=2.4->praw) (2.5.0)\n",
      "Requirement already satisfied: certifi>=2017.4.17 in c:\\users\\lenovo\\anaconda3\\envs\\webscrapping\\lib\\site-packages (from requests<3.0,>=2.6.0->prawcore<3,>=2.4->praw) (2025.8.3)\n",
      "Requirement already satisfied: numpy>=1.22.4 in c:\\users\\lenovo\\anaconda3\\envs\\webscrapping\\lib\\site-packages (from pandas) (1.26.4)\n",
      "Requirement already satisfied: python-dateutil>=2.8.2 in c:\\users\\lenovo\\anaconda3\\envs\\webscrapping\\lib\\site-packages (from pandas) (2.9.0.post0)\n",
      "Requirement already satisfied: pytz>=2020.1 in c:\\users\\lenovo\\anaconda3\\envs\\webscrapping\\lib\\site-packages (from pandas) (2025.2)\n",
      "Requirement already satisfied: tzdata>=2022.7 in c:\\users\\lenovo\\anaconda3\\envs\\webscrapping\\lib\\site-packages (from pandas) (2025.2)\n",
      "Requirement already satisfied: six>=1.5 in c:\\users\\lenovo\\anaconda3\\envs\\webscrapping\\lib\\site-packages (from python-dateutil>=2.8.2->pandas) (1.17.0)\n"
     ]
    }
   ],
   "source": [
    "!pip install praw python-dotenv pandas"
   ]
  },
  {
   "cell_type": "markdown",
   "id": "907da84c-8b20-4bc9-b015-a5bd6f63f91b",
   "metadata": {},
   "source": [
    "3. API Connection (PRAW)"
   ]
  },
  {
   "cell_type": "code",
   "execution_count": 3,
   "id": "27fc4358-a21c-4eb2-82d9-c9d807a05285",
   "metadata": {},
   "outputs": [
    {
     "name": "stdout",
     "output_type": "stream",
     "text": [
      "Carga exitosa con la API de Reddit\n"
     ]
    }
   ],
   "source": [
    "import praw\n",
    "import os\n",
    "from dotenv import load_dotenv\n",
    "import pandas as pd\n",
    "\n",
    "# The credentials are loaded from the .env file.\n",
    "load_dotenv()\n",
    "\n",
    "reddit = praw.Reddit(\n",
    "    client_id=os.getenv(\"REDDIT_CLIENT_ID\"),\n",
    "    client_secret=os.getenv(\"REDDIT_CLIENT_SECRET\"),\n",
    "    username=os.getenv(\"REDDIT_USERNAME\"),\n",
    "    password=os.getenv(\"REDDIT_PASSWORD\"),\n",
    "    user_agent=os.getenv(\"REDDIT_USER_AGENT\"),\n",
    ")\n",
    "\n",
    "print(\"Successful load with the Reddit API.\")"
   ]
  },
  {
   "cell_type": "markdown",
   "id": "90ecba8d-463d-4015-8ce9-f4d84f7a9428",
   "metadata": {},
   "source": [
    "### Part 2: Collect Data and Storage"
   ]
  },
  {
   "cell_type": "markdown",
   "id": "af7c43a1-1acb-4773-a824-231c19de61b6",
   "metadata": {},
   "source": [
    "4. Collect Posts from Subreddits "
   ]
  },
  {
   "cell_type": "markdown",
   "id": "e5f10433-c2ab-48ec-b4b4-e42724c1f300",
   "metadata": {},
   "source": [
    "Task: For each of the three subreddits (politics, PoliticalDiscussion, worldnews) collect 20 “hot” or “top” posts per subreddit."
   ]
  },
  {
   "cell_type": "code",
   "execution_count": 4,
   "id": "aa7207ca-b075-4f0d-9299-7e072d4094e2",
   "metadata": {},
   "outputs": [
    {
     "data": {
      "text/html": [
       "<div>\n",
       "<style scoped>\n",
       "    .dataframe tbody tr th:only-of-type {\n",
       "        vertical-align: middle;\n",
       "    }\n",
       "\n",
       "    .dataframe tbody tr th {\n",
       "        vertical-align: top;\n",
       "    }\n",
       "\n",
       "    .dataframe thead th {\n",
       "        text-align: right;\n",
       "    }\n",
       "</style>\n",
       "<table border=\"1\" class=\"dataframe\">\n",
       "  <thead>\n",
       "    <tr style=\"text-align: right;\">\n",
       "      <th></th>\n",
       "      <th>subreddit</th>\n",
       "      <th>id</th>\n",
       "      <th>title</th>\n",
       "      <th>score</th>\n",
       "      <th>num_comments</th>\n",
       "      <th>url</th>\n",
       "    </tr>\n",
       "  </thead>\n",
       "  <tbody>\n",
       "    <tr>\n",
       "      <th>0</th>\n",
       "      <td>politics</td>\n",
       "      <td>jptq5n</td>\n",
       "      <td>Megathread: Joe Biden Projected to Defeat Pres...</td>\n",
       "      <td>214315</td>\n",
       "      <td>80931</td>\n",
       "      <td>https://www.reddit.com/r/politics/comments/jpt...</td>\n",
       "    </tr>\n",
       "    <tr>\n",
       "      <th>1</th>\n",
       "      <td>politics</td>\n",
       "      <td>krntg6</td>\n",
       "      <td>Mitch McConnell Will Lose Control Of The Senat...</td>\n",
       "      <td>156753</td>\n",
       "      <td>10099</td>\n",
       "      <td>https://www.buzzfeednews.com/article/paulmcleo...</td>\n",
       "    </tr>\n",
       "    <tr>\n",
       "      <th>2</th>\n",
       "      <td>politics</td>\n",
       "      <td>ecm1zg</td>\n",
       "      <td>Megathread: House Votes to Impeach President D...</td>\n",
       "      <td>147744</td>\n",
       "      <td>50628</td>\n",
       "      <td>https://www.reddit.com/r/politics/comments/ecm...</td>\n",
       "    </tr>\n",
       "    <tr>\n",
       "      <th>3</th>\n",
       "      <td>politics</td>\n",
       "      <td>jcm5dz</td>\n",
       "      <td>Trump Threatens to ‘Leave the Country’ if He L...</td>\n",
       "      <td>135306</td>\n",
       "      <td>16093</td>\n",
       "      <td>https://www.thedailybeast.com/trump-threatens-...</td>\n",
       "    </tr>\n",
       "    <tr>\n",
       "      <th>4</th>\n",
       "      <td>politics</td>\n",
       "      <td>i19sjg</td>\n",
       "      <td>Demands for Kushner to Resign Over 'Staggering...</td>\n",
       "      <td>129744</td>\n",
       "      <td>6747</td>\n",
       "      <td>https://www.commondreams.org/news/2020/07/31/d...</td>\n",
       "    </tr>\n",
       "  </tbody>\n",
       "</table>\n",
       "</div>"
      ],
      "text/plain": [
       "  subreddit      id                                              title  \\\n",
       "0  politics  jptq5n  Megathread: Joe Biden Projected to Defeat Pres...   \n",
       "1  politics  krntg6  Mitch McConnell Will Lose Control Of The Senat...   \n",
       "2  politics  ecm1zg  Megathread: House Votes to Impeach President D...   \n",
       "3  politics  jcm5dz  Trump Threatens to ‘Leave the Country’ if He L...   \n",
       "4  politics  i19sjg  Demands for Kushner to Resign Over 'Staggering...   \n",
       "\n",
       "    score  num_comments                                                url  \n",
       "0  214315         80931  https://www.reddit.com/r/politics/comments/jpt...  \n",
       "1  156753         10099  https://www.buzzfeednews.com/article/paulmcleo...  \n",
       "2  147744         50628  https://www.reddit.com/r/politics/comments/ecm...  \n",
       "3  135306         16093  https://www.thedailybeast.com/trump-threatens-...  \n",
       "4  129744          6747  https://www.commondreams.org/news/2020/07/31/d...  "
      ]
     },
     "execution_count": 4,
     "metadata": {},
     "output_type": "execute_result"
    }
   ],
   "source": [
    "subreddits = [\"politics\", \"PoliticalDiscussion\", \"worldnews\"]\n",
    "\n",
    "posts_data = []\n",
    "\n",
    "for sub in subreddits:\n",
    "    subreddit = reddit.subreddit(sub)\n",
    "    for post in subreddit.top(limit=20):\n",
    "        posts_data.append({\n",
    "            \"subreddit\": sub,\n",
    "            \"id\": post.id,\n",
    "            \"title\": post.title,\n",
    "            \"score\": post.score,\n",
    "            \"num_comments\": post.num_comments,\n",
    "            \"url\": post.url\n",
    "        })\n",
    "\n",
    "df_posts = pd.DataFrame(posts_data)\n",
    "df_posts.to_csv(\"../salida/posts.csv\", index=False, encoding=\"utf-8-sig\")\n",
    "\n",
    "df_posts.head()"
   ]
  },
  {
   "cell_type": "markdown",
   "id": "3251e082-3cac-4da3-9ba0-09329928bdcc",
   "metadata": {},
   "source": [
    "5. Collect Comments"
   ]
  },
  {
   "cell_type": "markdown",
   "id": "e88a0198-c4a7-40ab-b3f1-7f33710af9f6",
   "metadata": {},
   "source": [
    "Task: For the subset of the most relevant posts, collect 5 comments per post."
   ]
  },
  {
   "cell_type": "code",
   "execution_count": 7,
   "id": "400158be-0280-4161-993d-ca8b13941f2e",
   "metadata": {},
   "outputs": [
    {
     "data": {
      "text/html": [
       "<div>\n",
       "<style scoped>\n",
       "    .dataframe tbody tr th:only-of-type {\n",
       "        vertical-align: middle;\n",
       "    }\n",
       "\n",
       "    .dataframe tbody tr th {\n",
       "        vertical-align: top;\n",
       "    }\n",
       "\n",
       "    .dataframe thead th {\n",
       "        text-align: right;\n",
       "    }\n",
       "</style>\n",
       "<table border=\"1\" class=\"dataframe\">\n",
       "  <thead>\n",
       "    <tr style=\"text-align: right;\">\n",
       "      <th></th>\n",
       "      <th>post_id</th>\n",
       "      <th>body</th>\n",
       "      <th>score</th>\n",
       "    </tr>\n",
       "  </thead>\n",
       "  <tbody>\n",
       "    <tr>\n",
       "      <th>0</th>\n",
       "      <td>jptq5n</td>\n",
       "      <td>EVERYONE WHO TURNED OUT IN 2020 NEEDS TO COME ...</td>\n",
       "      <td>2909</td>\n",
       "    </tr>\n",
       "    <tr>\n",
       "      <th>1</th>\n",
       "      <td>jptq5n</td>\n",
       "      <td>Never won the popular vote, got impeached, los...</td>\n",
       "      <td>2684</td>\n",
       "    </tr>\n",
       "    <tr>\n",
       "      <th>2</th>\n",
       "      <td>jptq5n</td>\n",
       "      <td>As German I understand how a country can be sc...</td>\n",
       "      <td>2440</td>\n",
       "    </tr>\n",
       "    <tr>\n",
       "      <th>3</th>\n",
       "      <td>jptq5n</td>\n",
       "      <td>Let us not soon forget that this victory was n...</td>\n",
       "      <td>10370</td>\n",
       "    </tr>\n",
       "    <tr>\n",
       "      <th>4</th>\n",
       "      <td>jptq5n</td>\n",
       "      <td>Trump is living the 2020 experience - got Covi...</td>\n",
       "      <td>6067</td>\n",
       "    </tr>\n",
       "  </tbody>\n",
       "</table>\n",
       "</div>"
      ],
      "text/plain": [
       "  post_id                                               body  score\n",
       "0  jptq5n  EVERYONE WHO TURNED OUT IN 2020 NEEDS TO COME ...   2909\n",
       "1  jptq5n  Never won the popular vote, got impeached, los...   2684\n",
       "2  jptq5n  As German I understand how a country can be sc...   2440\n",
       "3  jptq5n  Let us not soon forget that this victory was n...  10370\n",
       "4  jptq5n  Trump is living the 2020 experience - got Covi...   6067"
      ]
     },
     "execution_count": 7,
     "metadata": {},
     "output_type": "execute_result"
    }
   ],
   "source": [
    "comments_data = []\n",
    "\n",
    "for post_id in df_posts[\"id\"]:\n",
    "    submission = reddit.submission(id=post_id)\n",
    "    submission.comments.replace_more(limit=0)  # eliminar \"load more comments\"\n",
    "    \n",
    "    for comment in submission.comments[:5]:\n",
    "        comments_data.append({\n",
    "            \"post_id\": post_id,\n",
    "            \"body\": comment.body,\n",
    "            \"score\": comment.score\n",
    "        })\n",
    "\n",
    "df_comments = pd.DataFrame(comments_data)\n",
    "df_comments.to_csv(\"../salida/comments.csv\", index=False, encoding=\"utf-8-sig\")\n",
    "\n",
    "df_comments.head()"
   ]
  },
  {
   "cell_type": "markdown",
   "id": "5716ae2e-61b6-4cd9-802f-cab2bf376fc7",
   "metadata": {},
   "source": [
    "6. Storage\n",
    "   \n",
    "- File posts.csv: contains the post data.\n",
    "- File comments.csv: contains the associated comments.\n",
    "\n",
    "Saved in the salida folder"
   ]
  }
 ],
 "metadata": {
  "kernelspec": {
   "display_name": "Python 3 (ipykernel)",
   "language": "python",
   "name": "python3"
  },
  "language_info": {
   "codemirror_mode": {
    "name": "ipython",
    "version": 3
   },
   "file_extension": ".py",
   "mimetype": "text/x-python",
   "name": "python",
   "nbconvert_exporter": "python",
   "pygments_lexer": "ipython3",
   "version": "3.10.18"
  }
 },
 "nbformat": 4,
 "nbformat_minor": 5
}
