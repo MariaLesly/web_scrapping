{
 "cells": [
  {
   "cell_type": "markdown",
   "id": "04d05659-38a2-4cb7-8830-099c76ec8209",
   "metadata": {},
   "source": [
    "Instrucciones Generales\n",
    "• Fecha límite: 24 de septiembre, 11:59 PM\n",
    "* .Debes crear un repositorio llamado web_scrapping.\n",
    "* Crea una carpeta llamada code y allí debes guardar todos tus scripts.\n",
    "* Para la parte 1, crea un script llamado api_reddit;\n",
    "* para la parte 2, crea un script llamado web_scrapping_bumeran.\n",
    "* Crea una carpeta llamada output y allí debes guardar todas tus salidas, csvs o conjuntos de datos.\n",
    "* También tendrás que subir un video de 3 minutos explicando todos los pasos que seguiste al crear el código.\n",
    "* Usa youtube y haz que el enlace sea accesible para que podamos verlo sin restricciones. Pega el enlace en la hoja de Google.Hoja de Google:"
   ]
  },
  {
   "cell_type": "markdown",
   "id": "d37b426f-ddc8-4573-8921-9be1a413e488",
   "metadata": {},
   "source": [
    "**Exercise 2: Bumeran — Web Scraping**"
   ]
  },
  {
   "cell_type": "markdown",
   "id": "89be52d8-338d-4970-a6a7-79ec4cd6ddbb",
   "metadata": {},
   "source": [
    "1. Estructura de ramas de Git y carpetas\n",
    "  * Dentro de tu carpeta, incluye lo siguiente:\n",
    "     *  requirements.txtTu\n",
    "     * codigo de scraping (tu notebook de Jupyter).\n",
    "     * Tu archivo CSV resultante"
   ]
  },
  {
   "cell_type": "markdown",
   "id": "79f7ba54-fefc-419c-9ff4-cc84ca272ed9",
   "metadata": {},
   "source": [
    "2. Raspa todas las ofertas de trabajo en Ciencia de Datos de la plataforma Bumeran que cumplan con los siguientes filtros (¡usando código, no a mano!)"
   ]
  },
  {
   "cell_type": "code",
   "execution_count": 1,
   "id": "b0c5f8e5-046e-4e9b-be50-08d7253a9804",
   "metadata": {},
   "outputs": [
    {
     "data": {
      "text/plain": [
       "'C:\\\\Users\\\\MILAGROS\\\\Documents\\\\GitHub\\\\PythonQlab'"
      ]
     },
     "execution_count": 1,
     "metadata": {},
     "output_type": "execute_result"
    }
   ],
   "source": [
    "import os\n",
    "# Muestra la ruta completa del notebook actual\n",
    "os.getcwd()"
   ]
  },
  {
   "cell_type": "code",
   "execution_count": 2,
   "id": "2499e2bf-a60a-4fcc-9c10-2757acff0bc0",
   "metadata": {},
   "outputs": [
    {
     "data": {
      "text/html": [
       "\n",
       "<style>\n",
       "    div#notebook-container    { width: 95%; }\n",
       "    div#menubar-container     { width: 65%; }\n",
       "    div#maintoolbar-container { width: 99%; }a\n",
       "</style>\n"
      ],
      "text/plain": [
       "<IPython.core.display.HTML object>"
      ]
     },
     "metadata": {},
     "output_type": "display_data"
    }
   ],
   "source": [
    "from IPython.display import display, HTML\n",
    "\n",
    "display(HTML(data=\"\"\"\n",
    "<style>\n",
    "    div#notebook-container    { width: 95%; }\n",
    "    div#menubar-container     { width: 65%; }\n",
    "    div#maintoolbar-container { width: 99%; }a\n",
    "</style>\n",
    "\"\"\"))"
   ]
  },
  {
   "cell_type": "code",
   "execution_count": 3,
   "id": "ddfdabca-7925-4a66-b069-32adf663c62d",
   "metadata": {},
   "outputs": [],
   "source": [
    "from selenium.webdriver.common.by import By\n",
    "from selenium.webdriver.support.ui import WebDriverWait\n",
    "from selenium.webdriver.support import expected_conditions as EC\n",
    "import os"
   ]
  },
  {
   "cell_type": "code",
   "execution_count": 4,
   "id": "1843ecac-182e-44b4-8066-5ca18ae297b9",
   "metadata": {},
   "outputs": [],
   "source": [
    "# esta biblioteca es para manipular el navegador: \n",
    "# significa que estás importando el módulo webdriver desde la biblioteca selenium, \n",
    "# que se utiliza para automatizar navegadores web como Chrome, Firefox, etc.\n",
    "from selenium import webdriver\n",
    "\n",
    "# permite trabajar con diferentes versiones de controladores o forma parte de un script de automatización web\n",
    "# Llamamos a ChromeDriver de webdriver_manager.chrome import ChromeDriverManager\n",
    "import re\n",
    "import time \n",
    "from selenium.webdriver.common.by import By"
   ]
  },
  {
   "cell_type": "code",
   "execution_count": 5,
   "id": "2e51c0b7-6fa6-43cc-94ab-b55a7c75b9f9",
   "metadata": {},
   "outputs": [],
   "source": [
    "from selenium import webdriver\n",
    "from selenium.webdriver.common.by import By\n",
    "from selenium.webdriver.support.ui import Select"
   ]
  },
  {
   "cell_type": "code",
   "execution_count": 58,
   "id": "393f1ed2-dcfb-4420-bd4d-49686b299772",
   "metadata": {},
   "outputs": [],
   "source": [
    "options = webdriver.ChromeOptions()\n",
    "driver = webdriver.Chrome(options=options)\n",
    "url = \"https://www.bumeran.com.pe/\"\n",
    "driver.get(url)\n",
    "driver.maximize_window()"
   ]
  },
  {
   "cell_type": "code",
   "execution_count": 24,
   "id": "b2c58fcf-3497-4a2a-8f02-d96dceb05d82",
   "metadata": {},
   "outputs": [
    {
     "data": {
      "text/plain": [
       "'Trabajos - Empleos | Bumeran Perú'"
      ]
     },
     "execution_count": 24,
     "metadata": {},
     "output_type": "execute_result"
    }
   ],
   "source": [
    "driver.title"
   ]
  },
  {
   "cell_type": "code",
   "execution_count": 25,
   "id": "0629aaea-cdd5-4a90-9061-1a4fa1467831",
   "metadata": {},
   "outputs": [
    {
     "data": {
      "text/plain": [
       "'https://www.bumeran.com.pe/'"
      ]
     },
     "execution_count": 25,
     "metadata": {},
     "output_type": "execute_result"
    }
   ],
   "source": [
    "driver.current_url"
   ]
  },
  {
   "cell_type": "code",
   "execution_count": 26,
   "id": "a4f77a64-8a54-4fb7-975b-a035eea1b40b",
   "metadata": {
    "collapsed": true,
    "jupyter": {
     "outputs_hidden": true
    },
    "scrolled": true
   },
   "outputs": [
    {
     "data": {
      "text/plain": [
       "[{'domain': '.bumeran.com.pe',\n",
       "  'expiry': 1793206481,\n",
       "  'httpOnly': False,\n",
       "  'name': '_ga',\n",
       "  'path': '/',\n",
       "  'sameSite': 'Lax',\n",
       "  'secure': False,\n",
       "  'value': 'GA1.1.1677340103.1758646481'},\n",
       " {'domain': '.bumeran.com.pe',\n",
       "  'expiry': 1766422481,\n",
       "  'httpOnly': False,\n",
       "  'name': '_fbp',\n",
       "  'path': '/',\n",
       "  'sameSite': 'Lax',\n",
       "  'secure': False,\n",
       "  'value': 'fb.2.1758646481344.285540517228112497'},\n",
       " {'domain': '.bumeran.com.pe',\n",
       "  'expiry': 1758732881,\n",
       "  'httpOnly': False,\n",
       "  'name': '_clsk',\n",
       "  'path': '/',\n",
       "  'sameSite': 'Lax',\n",
       "  'secure': False,\n",
       "  'value': 'sjv3o%5E1758646481090%5E1%5E1%5Ek.clarity.ms%2Fcollect'},\n",
       " {'domain': '.bumeran.com.pe',\n",
       "  'expiry': 1766422481,\n",
       "  'httpOnly': False,\n",
       "  'name': '_gcl_au',\n",
       "  'path': '/',\n",
       "  'sameSite': 'Lax',\n",
       "  'secure': False,\n",
       "  'value': '1.1.404079442.1758646481'},\n",
       " {'domain': 'www.bumeran.com.pe',\n",
       "  'expiry': 1766422481,\n",
       "  'httpOnly': False,\n",
       "  'name': 'client_id',\n",
       "  'path': '/',\n",
       "  'sameSite': 'Lax',\n",
       "  'secure': False,\n",
       "  'value': 'undefined'},\n",
       " {'domain': '.bumeran.com.pe',\n",
       "  'expiry': 1758648277,\n",
       "  'httpOnly': True,\n",
       "  'name': '__cf_bm',\n",
       "  'path': '/',\n",
       "  'sameSite': 'None',\n",
       "  'secure': True,\n",
       "  'value': 'oxvZxtVgsAtccVIYVJe8lQ6SMJTZi3_p8qnxs.6NZVw-1758646476-1.0.1.1-boEYDoPyRMEn7hqUmJSbA6iwPI72pzeOFYlGVyDzo3j.x1e.gRs55NtnUt6AAqA8LXODuq3A6fieLalJTRvaxgXR9r3XtOhwxhOcVgxr9.Y'},\n",
       " {'domain': '.bumeran.com.pe',\n",
       "  'expiry': 1790182479,\n",
       "  'httpOnly': False,\n",
       "  'name': '_clck',\n",
       "  'path': '/',\n",
       "  'sameSite': 'Lax',\n",
       "  'secure': False,\n",
       "  'value': '7omldi%5E2%5Efzk%5E0%5E2092'},\n",
       " {'domain': '.bumeran.com.pe',\n",
       "  'expiry': 1793206481,\n",
       "  'httpOnly': False,\n",
       "  'name': '_ga_K7K8FVBZVB',\n",
       "  'path': '/',\n",
       "  'sameSite': 'Lax',\n",
       "  'secure': False,\n",
       "  'value': 'GS2.1.s1758646481$o1$g1$t1758646481$j60$l0$h0'},\n",
       " {'domain': 'www.bumeran.com.pe',\n",
       "  'expiry': 1758646597,\n",
       "  'httpOnly': True,\n",
       "  'name': 'frpo-cki',\n",
       "  'path': '/',\n",
       "  'sameSite': 'Lax',\n",
       "  'secure': False,\n",
       "  'value': '\"d84cf0dc88f58ba5\"'}]"
      ]
     },
     "execution_count": 26,
     "metadata": {},
     "output_type": "execute_result"
    }
   ],
   "source": [
    "driver.get_cookies()"
   ]
  },
  {
   "cell_type": "code",
   "execution_count": 35,
   "id": "da9748bb-5935-4d9d-89b8-03b710cdbb68",
   "metadata": {},
   "outputs": [],
   "source": [
    "driver.refresh() "
   ]
  },
  {
   "cell_type": "code",
   "execution_count": 59,
   "id": "11f31c39-68f2-476d-8c98-68e221c170f1",
   "metadata": {},
   "outputs": [],
   "source": [
    "driver.find_element('xpath', '//*[@id=\"buscarTrabajo\"]').click()\n",
    "driver.implicitly_wait(5)"
   ]
  },
  {
   "cell_type": "markdown",
   "id": "6d8f04f6-3b57-4506-9579-fbd4e2f49553",
   "metadata": {},
   "source": [
    "**Filtros - Georgina**"
   ]
  },
  {
   "cell_type": "code",
   "execution_count": 60,
   "id": "393afe96-0f5e-4e2e-b253-206bd40e8ab2",
   "metadata": {},
   "outputs": [],
   "source": [
    "# FECHA DE PUBLICACION\n",
    "driver.find_element('xpath', '//*[@id=\"root\"]/div/div[2]/div[1]/div/div[2]/div[1]/div[2]/div/div[1]/button[1]/div').click()\n",
    "driver.implicitly_wait(10)"
   ]
  },
  {
   "cell_type": "code",
   "execution_count": 61,
   "id": "89bf8110-0b93-4ca2-b970-0bcf0ef795c3",
   "metadata": {},
   "outputs": [],
   "source": [
    "driver.find_element('xpath', '//*[@id=\"root\"]/div/div[2]/div[1]/div/div[2]/div[1]/div[2]/div/div[2]/div/div/button[8]').click()\n",
    "driver.implicitly_wait(5)"
   ]
  },
  {
   "cell_type": "code",
   "execution_count": null,
   "id": "2a7e4bed-2107-41e7-8415-b75c54d33eeb",
   "metadata": {},
   "outputs": [],
   "source": []
  },
  {
   "cell_type": "code",
   "execution_count": 62,
   "id": "1ca91249-529d-45f4-939b-b9e2d7ee84c8",
   "metadata": {},
   "outputs": [],
   "source": [
    "# Área\n",
    "driver.find_element('xpath', '//*[@id=\"root\"]/div/div[2]/div[1]/div/div[2]/div[1]/div[2]/div/div[1]/button[1]').click()\n",
    "driver.implicitly_wait(10)"
   ]
  },
  {
   "cell_type": "code",
   "execution_count": 63,
   "id": "5a745f92-389f-476d-a105-6f6132260ee7",
   "metadata": {},
   "outputs": [],
   "source": [
    "driver.find_element('xpath', '//*[@id=\"root\"]/div/div[2]/div[1]/div/div[2]/div[1]/div[2]/div/div[2]/div/div/button[3]').click()\n",
    "driver.implicitly_wait(5)"
   ]
  },
  {
   "cell_type": "code",
   "execution_count": null,
   "id": "646b56cb-1d3b-4f4c-ac3c-63ae8fade880",
   "metadata": {},
   "outputs": [],
   "source": []
  },
  {
   "cell_type": "code",
   "execution_count": 64,
   "id": "bf62704d-14d2-4390-829e-7be2df3761e8",
   "metadata": {},
   "outputs": [],
   "source": [
    "# Sub Área\n",
    "driver.find_element('xpath', '//*[@id=\"root\"]/div/div[2]/div[1]/div/div[2]/div[1]/div[2]/div/div[1]/button[1]').click()\n",
    "driver.implicitly_wait(10)"
   ]
  },
  {
   "cell_type": "code",
   "execution_count": 65,
   "id": "9417a9f1-da30-41af-87a4-a24c450b4145",
   "metadata": {},
   "outputs": [],
   "source": [
    "driver.find_element('xpath', '//*[@id=\"root\"]/div/div[2]/div[1]/div/div[2]/div[1]/div[2]/div/div[2]/div/div/button[2]').click()\n",
    "driver.implicitly_wait(5)"
   ]
  },
  {
   "cell_type": "code",
   "execution_count": null,
   "id": "a0d61a6b-d809-4090-8e25-3b91f2d188a5",
   "metadata": {},
   "outputs": [],
   "source": []
  },
  {
   "cell_type": "code",
   "execution_count": 66,
   "id": "6576a69e-8a75-4488-9502-f96c8e94ab05",
   "metadata": {},
   "outputs": [],
   "source": [
    "# Departamento\n",
    "driver.find_element('xpath', '//*[@id=\"root\"]/div/div[2]/div[1]/div/div[2]/div[1]/div[2]/div/div[1]/button[1]/div/i').click()\n",
    "driver.implicitly_wait(10)"
   ]
  },
  {
   "cell_type": "code",
   "execution_count": 67,
   "id": "f1d4b52d-86a7-4293-b8f6-480bd3c3f798",
   "metadata": {},
   "outputs": [],
   "source": [
    "driver.find_element('xpath', '//*[@id=\"root\"]/div/div[2]/div[1]/div/div[2]/div[1]/div[2]/div/div[2]/div/div/button[1]').click()\n",
    "driver.implicitly_wait(5)"
   ]
  },
  {
   "cell_type": "code",
   "execution_count": null,
   "id": "f1280fba-8988-442d-a7f9-74f13023bcd7",
   "metadata": {},
   "outputs": [],
   "source": []
  },
  {
   "cell_type": "code",
   "execution_count": 68,
   "id": "e62d80dc-05fe-4b3b-8d0c-9c767e988aeb",
   "metadata": {},
   "outputs": [],
   "source": [
    "# Carga Horaria\n",
    "driver.find_element('xpath', '//*[@id=\"root\"]/div/div[2]/div[1]/div/div[2]/div[1]/div[2]/div/div[1]/button[4]/div').click()\n",
    "driver.implicitly_wait(10)"
   ]
  },
  {
   "cell_type": "code",
   "execution_count": 69,
   "id": "0f8f45c1-3ec6-4f2b-a829-0013445a5d6c",
   "metadata": {},
   "outputs": [],
   "source": [
    "driver.find_element('xpath', '//*[@id=\"root\"]/div/div[2]/div[1]/div/div[2]/div[1]/div[2]/div/div[2]/div/div/button[1]').click()\n",
    "driver.implicitly_wait(5)"
   ]
  },
  {
   "cell_type": "markdown",
   "id": "aec7c241-6f8e-408a-bc71-9521b867d421",
   "metadata": {},
   "source": [
    "Me quedo con el link de estos filtros:\n",
    "* https://www.bumeran.com.pe/en-lima/empleos-area-tecnologia-sistemas-y-telecomunicaciones-subarea-programacion-full-time-publicacion-menor-a-15-dias.html"
   ]
  },
  {
   "cell_type": "markdown",
   "id": "669c785f-b095-4498-b1aa-c3d2fa3d2329",
   "metadata": {},
   "source": [
    "3. Estrategia de Raspado Sugerida (Dos Etapas)\n",
    "* Etapa 1: Extraer Enlaces de Publicaciones de TrabajoRaspa todas las URL de anuncios de trabajo basándote en los filtros anteriores.\n",
    "   * Navega a través de todas las páginas si es necesario.\n",
    "* Etapa 2: Extraer detalles del trabajo\n",
    "    * Para cada URL de trabajo recopilada en la Etapa 1, extraer lo siguiente:Título del trabajo\n",
    "    * Descripción (hasta la sección de \"Beneficios\")\n",
    "    * Distrito\n",
    "    * Modo de trabajo (por ejemplo, en el sitio, remoto, híbrido)\n"
   ]
  },
  {
   "cell_type": "markdown",
   "id": "126c5477-af50-49ff-8c4e-a1e8bee5a2f2",
   "metadata": {},
   "source": [
    "Etapa 1: Extraer enlaces de publicaciones de trabajo\n",
    " * Después de aplicar los filtros, ubicas todos los anuncios de la página.\n",
    " * De cada anuncio, extraes el enlace (href) que lleva al detalle del trabajo.\n",
    " * Si hay varias páginas, recorres con un bucle haciendo clic en el botón siguiente hasta que ya no aparezca.\n",
    "\n",
    "Consideraciones teóricas\n",
    "* De cada anuncio, extraes el enlace (href) que lleva al detalle del trabajo.\n",
    "* Esa etiqueta siempre tiene un atributo llamado href que contiene la dirección (URL)"
   ]
  },
  {
   "cell_type": "code",
   "execution_count": 42,
   "id": "dd4ba627-8a57-4065-b5eb-91a30f45f0fb",
   "metadata": {},
   "outputs": [],
   "source": [
    "# la idea es entrar a cada uno de los enlaces: \n",
    "driver.find_element('xpath', '//*[@id=\"listado-avisos\"]/div[2]/a/div/div[2]/div[1]').click()\n",
    "driver.implicitly_wait(5)\n",
    "\n",
    "# Luego jalar el link \n",
    " # https://www.bumeran.com.pe/empleos/software-engineer-senior-grupo-gloria-1117976663.html"
   ]
  },
  {
   "cell_type": "code",
   "execution_count": null,
   "id": "52c25a02-0268-428a-804a-f0820fc47e99",
   "metadata": {},
   "outputs": [],
   "source": [
    "# El link que considero para el loop despues de los filtros:\n",
    "#    \"https://www.bumeran.com.pe/en-lima/empleos-area-tecnologia-sistemas-y-telecomunicaciones-subarea-programacion-full-time-publicacion-menor-a-15-dias.html"
   ]
  },
  {
   "cell_type": "markdown",
   "id": "b7f52df9-a296-4804-ac27-396e46d0f4ff",
   "metadata": {},
   "source": [
    "**ETAPA 1 - LOOP -  GEORGINA**"
   ]
  },
  {
   "cell_type": "markdown",
   "id": "7274af23-3cbe-4bee-8dae-94b68abc2e10",
   "metadata": {},
   "source": [
    "* TANTEO CON UNA PEQUEÑA MUESTRA DE los 3 primeros casos\n",
    "  * //*[@id=\"listado-avisos\"]/div[2]/a/div/div[2]/div[1]\n",
    "  * //*[@id=\"listado-avisos\"]/div[3]/a/div/div[3]/div/div[2]\n",
    "  * //*[@id=\"listado-avisos\"]/div[4]/a/div/div[2]/div[1]/div[1]/div\n",
    "    \n",
    "* LOS LINKS QUE ME DEBERIA DAR\n",
    "  * https://www.bumeran.com.pe/empleos/analista-programador-java-1117972678.html\n",
    "  * https://www.bumeran.com.pe/empleos/programador-frontend-senior-sonda-del-peru-s.a.-1117973000.html\n",
    "  * https://www.bumeran.com.pe/empleos/analista-programador-java-1117972678.html"
   ]
  },
  {
   "cell_type": "code",
   "execution_count": 43,
   "id": "0a28f970-9623-4a9d-ab08-a28de6fea7dd",
   "metadata": {},
   "outputs": [
    {
     "name": "stdout",
     "output_type": "stream",
     "text": [
      "No apareció banner de cookies.\n",
      "https://www.bumeran.com.pe/empleos/software-engineer-senior-grupo-gloria-1117976663.html\n",
      "https://www.bumeran.com.pe/empleos/programador-frontend-senior-sonda-del-peru-s.a.-1117973000.html\n",
      "https://www.bumeran.com.pe/empleos/analista-programador-java-1117972678.html\n"
     ]
    }
   ],
   "source": [
    "driver = webdriver.Chrome()\n",
    "driver.get(\"https://www.bumeran.com.pe/en-lima/empleos-area-tecnologia-sistemas-y-telecomunicaciones-subarea-programacion-full-time-publicacion-menor-a-15-dias.html\")\n",
    "time.sleep(5)\n",
    "\n",
    "# aceptar cookies\n",
    "try:\n",
    "    cookie_button = driver.find_element(By.ID, \"onetrust-accept-btn-handler\")\n",
    "    cookie_button.click()\n",
    "    print(\"Cookies aceptadas.\")\n",
    "    time.sleep(10)\n",
    "except:\n",
    "    print(\"No apareció banner de cookies.\")\n",
    "\n",
    "# selecciona directamente los <a> dentro de listado-avisos\n",
    "jobs = driver.find_elements(By.XPATH, '//*[@id=\"listado-avisos\"]/div/a')\n",
    "\n",
    "\n",
    "for job in jobs[:3]:\n",
    "    print(job.get_attribute(\"href\"))"
   ]
  },
  {
   "cell_type": "markdown",
   "id": "ebc4cac6-bfc6-462a-ac14-c44e1cd70c9c",
   "metadata": {},
   "source": [
    "##### **GENERALIZAMOS PARALAS 113 OBSERVACIONES - Actualizado al 24/09/2025 - GEORGINA**"
   ]
  },
  {
   "cell_type": "code",
   "execution_count": 4,
   "id": "e99b1ee9-c37f-4200-8cfa-7b7f8ad3c7e4",
   "metadata": {},
   "outputs": [
    {
     "name": "stdout",
     "output_type": "stream",
     "text": [
      "No apareció banner de cookies.\n",
      "\n",
      "=== Página 1 ===\n",
      "https://www.bumeran.com.pe/empleos/software-engineer-senior-grupo-gloria-1117976663.html\n",
      "https://www.bumeran.com.pe/empleos/programador-frontend-senior-sonda-del-peru-s.a.-1117973000.html\n",
      "https://www.bumeran.com.pe/empleos/analista-programador-java-1117972678.html\n",
      "https://www.bumeran.com.pe/empleos/analista-programador-postgre-oracle-hibrido-green-solutions-1117979984.html\n",
      "https://www.bumeran.com.pe/empleos/analista-programador-sede-ate-bumeran-selecta-1117969140.html\n",
      "https://www.bumeran.com.pe/empleos/trainee-programador-jr-building-software-1117968407.html\n",
      "https://www.bumeran.com.pe/empleos/desarrollador-full-stack-node.js-c-java-angularjs-ibr-peru-s.a.-1117967655.html\n",
      "https://www.bumeran.com.pe/empleos/practicante-pre-profesional-de-automatizacion-canvia-1117980437.html\n",
      "https://www.bumeran.com.pe/empleos/analista-programador-fullstack-java-hitss-peru-1117980080.html\n",
      "https://www.bumeran.com.pe/empleos/desarrollador-genexus-remoto-software-enterprise-services-s.a.c.-1117980075.html\n",
      "https://www.bumeran.com.pe/empleos/analista-programador-.net-sqlserver-integration-quality-project-management-s.a.c.-iq-project-s.a.c.-1117979719.html\n",
      "https://www.bumeran.com.pe/empleos/programador-electrico-polindustria-s.a-1117979364.html\n",
      "https://www.bumeran.com.pe/empleos/java-developer-senior-inetum-peru-1117979249.html\n",
      "https://www.bumeran.com.pe/empleos/senior-react-developer-encora-1117979242.html\n",
      "https://www.bumeran.com.pe/empleos/desarrollador-backend-semi-senior-metrica-peru-1117979121.html\n",
      "https://www.bumeran.com.pe/empleos/desarrollador-lider-tecnico-protiviti-peru-1117978985.html\n",
      "https://www.bumeran.com.pe/empleos/desarrollador-de-integracion-osb-stefanini-peru-s.a-1117978939.html\n",
      "https://www.bumeran.com.pe/empleos/desarrollador-java-senior-azure-temporal-indra-peru-1117978869.html\n",
      "https://www.bumeran.com.pe/empleos/analista-desarrollador-java-sector-administracion-de-fondos-colectivos-experis-peru-1117978810.html\n",
      "https://www.bumeran.com.pe/empleos/desarrollador-full-stack-surco-presencial-well-consulting-services-1117978454.html\n",
      "https://www.bumeran.com.pe/en-lima/empleos-area-tecnologia-sistemas-y-telecomunicaciones-subarea-programacion-full-time-publicacion-menor-a-15-dias.html#\n",
      "https://www.bumeran.com.pe/en-lima/empleos-area-tecnologia-sistemas-y-telecomunicaciones-subarea-programacion-full-time-publicacion-menor-a-15-dias.html?page=2\n",
      "\n",
      "=== Página 2 ===\n",
      "https://www.bumeran.com.pe/empleos/auditor-en-tasador-de-joyas-caja-metropolitana-de-lima-1117977845.html\n",
      "https://www.bumeran.com.pe/empleos/programador-full-stack-java-react-valtx-1117977502.html\n",
      "https://www.bumeran.com.pe/empleos/analista-de-imagenes-hospitalarias-sistemas-grupo-san-pablo-1117977289.html\n",
      "https://www.bumeran.com.pe/empleos/desarrollador-backend-nodejs-senior-zoluxiones-sac-1117977115.html\n",
      "https://www.bumeran.com.pe/empleos/analista-programador-php-canvia-1117976775.html\n",
      "https://www.bumeran.com.pe/empleos/desarrolladora-mineria-lurin-zamine-peru-1117976772.html\n",
      "https://www.bumeran.com.pe/empleos/desarrollador-fullstack-1117976482.html\n",
      "https://www.bumeran.com.pe/empleos/analista-de-programacion-caja-metropolitana-de-lima-1117975863.html\n",
      "https://www.bumeran.com.pe/empleos/programador-bms-o-scada-indra-peru-1117975855.html\n",
      "https://www.bumeran.com.pe/empleos/analista-desarrollador-full-stack-gruporpp-s.a.c.-1117968336.html\n",
      "https://www.bumeran.com.pe/empleos/analista-programador-java-entelgy-1117975157.html\n",
      "https://www.bumeran.com.pe/empleos/analista-programador-.net-%7C-visual-basic-entelgy-1117975151.html\n",
      "https://www.bumeran.com.pe/empleos/analista-desarrollador-java-manpowergroup-peru-1117974662.html\n",
      "https://www.bumeran.com.pe/empleos/desarrollador-backend-nodejs-aws-indra-peru-1117974651.html\n",
      "https://www.bumeran.com.pe/empleos/analista-de-programador-derrama-magisterial-1117974631.html\n",
      "https://www.bumeran.com.pe/empleos/desarrollador-full-stack-java-aws-react-native-software-enterprise-services-s.a.c.-1117974521.html\n",
      "https://www.bumeran.com.pe/empleos/programador-bms-indra-peru-1117974062.html\n",
      "https://www.bumeran.com.pe/empleos/desarrollador-fullstack-lenguaje-go-y-react-native-software-enterprise-services-s.a.c.-1117949402.html\n",
      "https://www.bumeran.com.pe/empleos/desarrollador-mobile-react-native-fractal-soluciones-it-1117974334.html\n",
      "https://www.bumeran.com.pe/empleos/desarrollador-frontend-senior-fractal-soluciones-it-1117974205.html\n",
      "https://www.bumeran.com.pe/en-lima/empleos-area-tecnologia-sistemas-y-telecomunicaciones-subarea-programacion-full-time-publicacion-menor-a-15-dias.html\n",
      "https://www.bumeran.com.pe/en-lima/empleos-area-tecnologia-sistemas-y-telecomunicaciones-subarea-programacion-full-time-publicacion-menor-a-15-dias.html?page=3\n",
      "\n",
      "=== Página 3 ===\n",
      "https://www.bumeran.com.pe/empleos/desarrollador-.net-senior-fractal-soluciones-it-1117973977.html\n",
      "https://www.bumeran.com.pe/empleos/programador-ologgi-s.a.c-1117973857.html\n",
      "https://www.bumeran.com.pe/empleos/programador-full-stack-c-exp-en-ia-valtx-1117973381.html\n",
      "https://www.bumeran.com.pe/empleos/programador-bms-automizador-indra-peru-1117973373.html\n",
      "https://www.bumeran.com.pe/empleos/programador-bms-indra-peru-1117973363.html\n",
      "https://www.bumeran.com.pe/empleos/analista-programador-sector-educativo-inlearning-escuelas-de-educacion-superior-1117973244.html\n",
      "https://www.bumeran.com.pe/empleos/programador-bms-indra-peru-1117973221.html\n",
      "https://www.bumeran.com.pe/empleos/tecnico-desarrollador-de-sistemas-1117973188.html\n",
      "https://www.bumeran.com.pe/empleos/analista-programador-senior-adex-1117972522.html\n",
      "https://www.bumeran.com.pe/empleos/programador-en-oracle-developer-clbs-1117972036.html\n",
      "https://www.bumeran.com.pe/empleos/analista-programador-java-remoto-planilla-completa-green-solutions-1117971817.html\n",
      "https://www.bumeran.com.pe/empleos/fullstack-developer-senior-.net-angular-zutun.-1117971550.html\n",
      "https://www.bumeran.com.pe/empleos/analista-programador-java-cloud-senior-green-solutions-1117971404.html\n",
      "https://www.bumeran.com.pe/empleos/desarrollador-backend-.net-indra-peru-1117971369.html\n",
      "https://www.bumeran.com.pe/empleos/analista-programador-de-ti-seaboard-overseas-peru-s.a.-1117970924.html\n",
      "https://www.bumeran.com.pe/empleos/analista-programador-postgre-oracle-hibrido-green-solutions-1117970409.html\n",
      "https://www.bumeran.com.pe/empleos/desarrollador-backend-javascript-senior-remoto-csti-corp-1117970346.html\n",
      "https://www.bumeran.com.pe/empleos/programador-python-junior-csti-corp-1117970174.html\n",
      "https://www.bumeran.com.pe/empleos/.net-developer-junior-inetum-peru-1117970031.html\n",
      "https://www.bumeran.com.pe/empleos/frontend-developer-react-js-ts-zutun.-1117969630.html\n",
      "https://www.bumeran.com.pe/en-lima/empleos-area-tecnologia-sistemas-y-telecomunicaciones-subarea-programacion-full-time-publicacion-menor-a-15-dias.html?page=4\n",
      "\n",
      "=== Página 4 ===\n",
      "https://www.bumeran.com.pe/empleos/mid-node-aws-engineer-encora-1117969139.html\n",
      "https://www.bumeran.com.pe/empleos/analista-de-programacion-rpg-izipay-1117080379.html\n",
      "https://www.bumeran.com.pe/empleos/desarrollador-backend-indra-peru-1117968754.html\n",
      "https://www.bumeran.com.pe/empleos/programador-rpa-rocketbot-uipath-valtx-1117968630.html\n",
      "https://www.bumeran.com.pe/empleos/soporte-jr-y-sr-de-plataforma-bmc-helix-remedy-hitss-peru-1117968539.html\n",
      "https://www.bumeran.com.pe/empleos/desarrollador-backend-inetum-peru-1117968206.html\n",
      "https://www.bumeran.com.pe/empleos/desarrollador-fullstack-java-hitss-peru-1117967606.html\n",
      "https://www.bumeran.com.pe/empleos/programador-abap-preencial-experis-peru-1117966739.html\n",
      "https://www.bumeran.com.pe/empleos/desarrollador-fullstack-java-js-remoto-protiviti-peru-1117966558.html\n",
      "https://www.bumeran.com.pe/empleos/analista-programador-clinica-vesalio-s.a.-1117966201.html\n",
      "https://www.bumeran.com.pe/empleos/backend-java-sector-bancario-experis-peru-1117965923.html\n",
      "https://www.bumeran.com.pe/empleos/desarrollador-frontend-react-por-proyecto-indra-peru-1117965904.html\n",
      "https://www.bumeran.com.pe/empleos/desarrollador-full-stack-senior--ecommerce-magento-perfumerias-unidas-1117965886.html\n",
      "https://www.bumeran.com.pe/empleos/desarrollador-genexus-software-enterprise-services-s.a.c.-1117965079.html\n",
      "https://www.bumeran.com.pe/empleos/analista-senior-de-automatizaciones-e-inteligencia-artificial-hibrido-cibergestion-peru-1117964801.html\n",
      "https://www.bumeran.com.pe/empleos/analista-programador-vb6-real-systems-s-a-1117886662.html\n",
      "https://www.bumeran.com.pe/empleos/desarrollador-backend-manpowergroup-peru-1117964291.html\n",
      "https://www.bumeran.com.pe/empleos/desarrollador-full-stack-.net-ibr-peru-s.a.-1117964229.html\n",
      "https://www.bumeran.com.pe/empleos/desarrollador-frontend-senior-canvia-1117964197.html\n",
      "https://www.bumeran.com.pe/empleos/analista-programador-1117964091.html\n",
      "https://www.bumeran.com.pe/en-lima/empleos-area-tecnologia-sistemas-y-telecomunicaciones-subarea-programacion-full-time-publicacion-menor-a-15-dias.html?page=5\n",
      "\n",
      "=== Página 5 ===\n",
      "https://www.bumeran.com.pe/empleos/backend-developer-senior-culqi-talent2win-1117963319.html\n",
      "https://www.bumeran.com.pe/empleos/analista-programador-universidad-de-san-martin-de-porres-1117963157.html\n",
      "https://www.bumeran.com.pe/empleos/analista-programador-java-oracle-presencial-hitss-peru-1117963095.html\n",
      "https://www.bumeran.com.pe/empleos/soporte-jr-de-aplicaciones-linux-plsql-hitss-peru-1117963093.html\n",
      "https://www.bumeran.com.pe/empleos/analista-programador-java-valtx-1117962716.html\n",
      "https://www.bumeran.com.pe/empleos/analista-programador-postgre-oracle-hibrido-green-solutions-1117962598.html\n",
      "https://www.bumeran.com.pe/empleos/frontend-developer-angular-experis-peru-1117962336.html\n",
      "https://www.bumeran.com.pe/empleos/desarrollador-frontend-senior-remoto-csti-corp-1117962091.html\n",
      "https://www.bumeran.com.pe/empleos/desarrollador-backend-java-inetum-peru-1117961759.html\n",
      "https://www.bumeran.com.pe/empleos/desarrollador-fullstack-semiseniorjava-angular-csti-corp-1117961713.html\n",
      "https://www.bumeran.com.pe/empleos/analista-programador-full-stack-universidad-de-ingenieria-y-tecnologia-utec-1117961694.html\n",
      "https://www.bumeran.com.pe/empleos/desarrollador-.net-php-indra-peru-1117961552.html\n",
      "https://www.bumeran.com.pe/empleos/desarrollador-python-odoo-ibr-peru-s.a.-1117961539.html\n",
      "https://www.bumeran.com.pe/empleos/desarrollador-backend-javascript-senior-csti-corp-1117961392.html\n",
      "https://www.bumeran.com.pe/empleos/desarrollador-fullsatck-enfoque-en-frontend-fractal-soluciones-it-1117962666.html\n",
      "https://www.bumeran.com.pe/empleos/practicante-de-digitalizacion-repsol-1117960947.html\n",
      "https://www.bumeran.com.pe/empleos/analista-programador-java-microservicios-canvia-1117960644.html\n",
      "https://www.bumeran.com.pe/empleos/programador-1117960615.html\n",
      "https://www.bumeran.com.pe/empleos/analista-programador-frontend-angular-canvia-1117960612.html\n",
      "https://www.bumeran.com.pe/empleos/practicante-profesional-programacion-plsql-indra-peru-1117960022.html\n",
      "https://www.bumeran.com.pe/en-lima/empleos-area-tecnologia-sistemas-y-telecomunicaciones-subarea-programacion-full-time-publicacion-menor-a-15-dias.html?page=6\n",
      "\n",
      "=== Página 6 ===\n",
      "https://www.bumeran.com.pe/empleos/tech-lead-lider-tecnico-frontend-react-nextjs-zutun.-1117959935.html\n",
      "https://www.bumeran.com.pe/empleos/practicante-profesional-desarrollador-pl-sql-indra-peru-1117941356.html\n",
      "https://www.bumeran.com.pe/empleos/analista-programador-visual-basic-.net-idm-technology-1117979310.html\n",
      "https://www.bumeran.com.pe/empleos/desarrollador-java-mobile-red-educativa-le-cordon-bleu-1117979044.html\n",
      "https://www.bumeran.com.pe/empleos/desarrollador-full-stack-grupo-red-salud-1117971064.html\n",
      "https://www.bumeran.com.pe/empleos/programador-de-inteligencia-artificial-growth-digital-lab-1117968752.html\n",
      "https://www.bumeran.com.pe/empleos/desarrollador-de-sistemas-intelitech-peru-s.a.c.-1117964390.html\n",
      "https://www.bumeran.com.pe/empleos/desarrollador-full-stack-igts-sac-1117965145.html\n",
      "https://www.bumeran.com.pe/empleos/analista-programador-fullstack-isp-consulting-1117960954.html\n",
      "https://www.bumeran.com.pe/en-lima/empleos-area-tecnologia-sistemas-y-telecomunicaciones-subarea-programacion-full-time-publicacion-menor-a-15-dias.html?page=6#\n",
      "\n",
      "Total de empleos encontrados: 117\n"
     ]
    }
   ],
   "source": [
    "driver = webdriver.Chrome()\n",
    "driver.get(\"https://www.bumeran.com.pe/en-lima/empleos-area-tecnologia-sistemas-y-telecomunicaciones-subarea-programacion-full-time-publicacion-menor-a-15-dias.html\")\n",
    "time.sleep(5)\n",
    "\n",
    "# aceptar cookies\n",
    "try:\n",
    "    cookie_button = driver.find_element(By.ID, \"onetrust-accept-btn-handler\")\n",
    "    cookie_button.click()\n",
    "    print(\"Cookies aceptadas.\")\n",
    "    time.sleep(3)\n",
    "except:\n",
    "    print(\"No apareció banner de cookies.\")\n",
    "\n",
    "all_jobs = []\n",
    "\n",
    "# recorrer páginas 1 a 6\n",
    "for page in range(1, 7):\n",
    "    print(f\"\\n=== Página {page} ===\")\n",
    "\n",
    "    # esperar que carguen los avisos\n",
    "    WebDriverWait(driver, 10).until(\n",
    "        EC.presence_of_all_elements_located((By.XPATH, '//*[@id=\"listado-avisos\"]/div/a'))\n",
    "    )\n",
    "\n",
    "    jobs = driver.find_elements(By.XPATH, '//*[@id=\"listado-avisos\"]/div/a')\n",
    "    \n",
    "    for job in jobs:\n",
    "        link = job.get_attribute(\"href\")\n",
    "        if link and link not in all_jobs:\n",
    "            all_jobs.append(link)\n",
    "            print(link)\n",
    "\n",
    "    # si no estamos en la última página, dar clic en el número correspondiente\n",
    "    if page < 6:\n",
    "        try:\n",
    "            # buscar el botón por el texto (ej: \"2\", \"3\", \"4\"...)\n",
    "            next_button = driver.find_element(By.LINK_TEXT, str(page+1))\n",
    "            driver.execute_script(\"arguments[0].click();\", next_button)\n",
    "            time.sleep(5)\n",
    "        except Exception as e:\n",
    "            print(f\"No se pudo pasar a la página {page+1}: {e}\")\n",
    "            break\n",
    "\n",
    "print(\"\\nTotal de empleos encontrados:\", len(all_jobs))\n",
    "\n"
   ]
  },
  {
   "cell_type": "markdown",
   "id": "448f5573-f9a8-4d08-b251-823ce8d404a1",
   "metadata": {},
   "source": [
    "ETAPA 2 - LOOP - NICOLE"
   ]
  },
  {
   "cell_type": "code",
   "execution_count": 3,
   "id": "8dfc4964-736e-4eb5-934a-cc1a061e84a9",
   "metadata": {},
   "outputs": [],
   "source": [
    "import time, re\n",
    "import pandas as pd\n",
    "import selenium\n",
    "import os\n",
    "\n",
    "from selenium import webdriver\n",
    "from selenium.webdriver.chrome.options import Options\n",
    "from selenium.webdriver.common.by import By\n",
    "from selenium.webdriver.support.ui import WebDriverWait\n",
    "from selenium.webdriver.support import expected_conditions as EC"
   ]
  },
  {
   "cell_type": "code",
   "execution_count": 5,
   "id": "bbe73208-15d0-4d9a-aa3c-6c7ee80e2091",
   "metadata": {},
   "outputs": [
    {
     "data": {
      "text/plain": [
       "['https://www.bumeran.com.pe/empleos/software-engineer-senior-grupo-gloria-1117976663.html',\n",
       " 'https://www.bumeran.com.pe/empleos/programador-frontend-senior-sonda-del-peru-s.a.-1117973000.html',\n",
       " 'https://www.bumeran.com.pe/empleos/analista-programador-java-1117972678.html',\n",
       " 'https://www.bumeran.com.pe/empleos/analista-programador-postgre-oracle-hibrido-green-solutions-1117979984.html',\n",
       " 'https://www.bumeran.com.pe/empleos/analista-programador-sede-ate-bumeran-selecta-1117969140.html',\n",
       " 'https://www.bumeran.com.pe/empleos/trainee-programador-jr-building-software-1117968407.html',\n",
       " 'https://www.bumeran.com.pe/empleos/desarrollador-full-stack-node.js-c-java-angularjs-ibr-peru-s.a.-1117967655.html',\n",
       " 'https://www.bumeran.com.pe/empleos/practicante-pre-profesional-de-automatizacion-canvia-1117980437.html',\n",
       " 'https://www.bumeran.com.pe/empleos/analista-programador-fullstack-java-hitss-peru-1117980080.html',\n",
       " 'https://www.bumeran.com.pe/empleos/desarrollador-genexus-remoto-software-enterprise-services-s.a.c.-1117980075.html',\n",
       " 'https://www.bumeran.com.pe/empleos/analista-programador-.net-sqlserver-integration-quality-project-management-s.a.c.-iq-project-s.a.c.-1117979719.html',\n",
       " 'https://www.bumeran.com.pe/empleos/programador-electrico-polindustria-s.a-1117979364.html',\n",
       " 'https://www.bumeran.com.pe/empleos/java-developer-senior-inetum-peru-1117979249.html',\n",
       " 'https://www.bumeran.com.pe/empleos/senior-react-developer-encora-1117979242.html',\n",
       " 'https://www.bumeran.com.pe/empleos/desarrollador-backend-semi-senior-metrica-peru-1117979121.html',\n",
       " 'https://www.bumeran.com.pe/empleos/desarrollador-lider-tecnico-protiviti-peru-1117978985.html',\n",
       " 'https://www.bumeran.com.pe/empleos/desarrollador-de-integracion-osb-stefanini-peru-s.a-1117978939.html',\n",
       " 'https://www.bumeran.com.pe/empleos/desarrollador-java-senior-azure-temporal-indra-peru-1117978869.html',\n",
       " 'https://www.bumeran.com.pe/empleos/analista-desarrollador-java-sector-administracion-de-fondos-colectivos-experis-peru-1117978810.html',\n",
       " 'https://www.bumeran.com.pe/empleos/desarrollador-full-stack-surco-presencial-well-consulting-services-1117978454.html',\n",
       " 'https://www.bumeran.com.pe/empleos/auditor-en-tasador-de-joyas-caja-metropolitana-de-lima-1117977845.html',\n",
       " 'https://www.bumeran.com.pe/empleos/programador-full-stack-java-react-valtx-1117977502.html',\n",
       " 'https://www.bumeran.com.pe/empleos/analista-de-imagenes-hospitalarias-sistemas-grupo-san-pablo-1117977289.html',\n",
       " 'https://www.bumeran.com.pe/empleos/desarrollador-backend-nodejs-senior-zoluxiones-sac-1117977115.html',\n",
       " 'https://www.bumeran.com.pe/empleos/analista-programador-php-canvia-1117976775.html',\n",
       " 'https://www.bumeran.com.pe/empleos/desarrolladora-mineria-lurin-zamine-peru-1117976772.html',\n",
       " 'https://www.bumeran.com.pe/empleos/desarrollador-fullstack-1117976482.html',\n",
       " 'https://www.bumeran.com.pe/empleos/analista-de-programacion-caja-metropolitana-de-lima-1117975863.html',\n",
       " 'https://www.bumeran.com.pe/empleos/programador-bms-o-scada-indra-peru-1117975855.html',\n",
       " 'https://www.bumeran.com.pe/empleos/analista-desarrollador-full-stack-gruporpp-s.a.c.-1117968336.html',\n",
       " 'https://www.bumeran.com.pe/empleos/analista-programador-java-entelgy-1117975157.html',\n",
       " 'https://www.bumeran.com.pe/empleos/analista-programador-.net-%7C-visual-basic-entelgy-1117975151.html',\n",
       " 'https://www.bumeran.com.pe/empleos/analista-desarrollador-java-manpowergroup-peru-1117974662.html',\n",
       " 'https://www.bumeran.com.pe/empleos/desarrollador-backend-nodejs-aws-indra-peru-1117974651.html',\n",
       " 'https://www.bumeran.com.pe/empleos/analista-de-programador-derrama-magisterial-1117974631.html',\n",
       " 'https://www.bumeran.com.pe/empleos/desarrollador-full-stack-java-aws-react-native-software-enterprise-services-s.a.c.-1117974521.html',\n",
       " 'https://www.bumeran.com.pe/empleos/programador-bms-indra-peru-1117974062.html',\n",
       " 'https://www.bumeran.com.pe/empleos/desarrollador-fullstack-lenguaje-go-y-react-native-software-enterprise-services-s.a.c.-1117949402.html',\n",
       " 'https://www.bumeran.com.pe/empleos/desarrollador-mobile-react-native-fractal-soluciones-it-1117974334.html',\n",
       " 'https://www.bumeran.com.pe/empleos/desarrollador-frontend-senior-fractal-soluciones-it-1117974205.html',\n",
       " 'https://www.bumeran.com.pe/empleos/desarrollador-.net-senior-fractal-soluciones-it-1117973977.html',\n",
       " 'https://www.bumeran.com.pe/empleos/programador-ologgi-s.a.c-1117973857.html',\n",
       " 'https://www.bumeran.com.pe/empleos/programador-full-stack-c-exp-en-ia-valtx-1117973381.html',\n",
       " 'https://www.bumeran.com.pe/empleos/programador-bms-automizador-indra-peru-1117973373.html',\n",
       " 'https://www.bumeran.com.pe/empleos/programador-bms-indra-peru-1117973363.html',\n",
       " 'https://www.bumeran.com.pe/empleos/analista-programador-sector-educativo-inlearning-escuelas-de-educacion-superior-1117973244.html',\n",
       " 'https://www.bumeran.com.pe/empleos/programador-bms-indra-peru-1117973221.html',\n",
       " 'https://www.bumeran.com.pe/empleos/tecnico-desarrollador-de-sistemas-1117973188.html',\n",
       " 'https://www.bumeran.com.pe/empleos/analista-programador-senior-adex-1117972522.html',\n",
       " 'https://www.bumeran.com.pe/empleos/programador-en-oracle-developer-clbs-1117972036.html',\n",
       " 'https://www.bumeran.com.pe/empleos/analista-programador-java-remoto-planilla-completa-green-solutions-1117971817.html',\n",
       " 'https://www.bumeran.com.pe/empleos/fullstack-developer-senior-.net-angular-zutun.-1117971550.html',\n",
       " 'https://www.bumeran.com.pe/empleos/analista-programador-java-cloud-senior-green-solutions-1117971404.html',\n",
       " 'https://www.bumeran.com.pe/empleos/desarrollador-backend-.net-indra-peru-1117971369.html',\n",
       " 'https://www.bumeran.com.pe/empleos/analista-programador-de-ti-seaboard-overseas-peru-s.a.-1117970924.html',\n",
       " 'https://www.bumeran.com.pe/empleos/analista-programador-postgre-oracle-hibrido-green-solutions-1117970409.html',\n",
       " 'https://www.bumeran.com.pe/empleos/desarrollador-backend-javascript-senior-remoto-csti-corp-1117970346.html',\n",
       " 'https://www.bumeran.com.pe/empleos/programador-python-junior-csti-corp-1117970174.html',\n",
       " 'https://www.bumeran.com.pe/empleos/.net-developer-junior-inetum-peru-1117970031.html',\n",
       " 'https://www.bumeran.com.pe/empleos/frontend-developer-react-js-ts-zutun.-1117969630.html',\n",
       " 'https://www.bumeran.com.pe/empleos/mid-node-aws-engineer-encora-1117969139.html',\n",
       " 'https://www.bumeran.com.pe/empleos/analista-de-programacion-rpg-izipay-1117080379.html',\n",
       " 'https://www.bumeran.com.pe/empleos/desarrollador-backend-indra-peru-1117968754.html',\n",
       " 'https://www.bumeran.com.pe/empleos/programador-rpa-rocketbot-uipath-valtx-1117968630.html',\n",
       " 'https://www.bumeran.com.pe/empleos/soporte-jr-y-sr-de-plataforma-bmc-helix-remedy-hitss-peru-1117968539.html',\n",
       " 'https://www.bumeran.com.pe/empleos/desarrollador-backend-inetum-peru-1117968206.html',\n",
       " 'https://www.bumeran.com.pe/empleos/desarrollador-fullstack-java-hitss-peru-1117967606.html',\n",
       " 'https://www.bumeran.com.pe/empleos/programador-abap-preencial-experis-peru-1117966739.html',\n",
       " 'https://www.bumeran.com.pe/empleos/desarrollador-fullstack-java-js-remoto-protiviti-peru-1117966558.html',\n",
       " 'https://www.bumeran.com.pe/empleos/analista-programador-clinica-vesalio-s.a.-1117966201.html',\n",
       " 'https://www.bumeran.com.pe/empleos/backend-java-sector-bancario-experis-peru-1117965923.html',\n",
       " 'https://www.bumeran.com.pe/empleos/desarrollador-frontend-react-por-proyecto-indra-peru-1117965904.html',\n",
       " 'https://www.bumeran.com.pe/empleos/desarrollador-full-stack-senior--ecommerce-magento-perfumerias-unidas-1117965886.html',\n",
       " 'https://www.bumeran.com.pe/empleos/desarrollador-genexus-software-enterprise-services-s.a.c.-1117965079.html',\n",
       " 'https://www.bumeran.com.pe/empleos/analista-senior-de-automatizaciones-e-inteligencia-artificial-hibrido-cibergestion-peru-1117964801.html',\n",
       " 'https://www.bumeran.com.pe/empleos/analista-programador-vb6-real-systems-s-a-1117886662.html',\n",
       " 'https://www.bumeran.com.pe/empleos/desarrollador-backend-manpowergroup-peru-1117964291.html',\n",
       " 'https://www.bumeran.com.pe/empleos/desarrollador-full-stack-.net-ibr-peru-s.a.-1117964229.html',\n",
       " 'https://www.bumeran.com.pe/empleos/desarrollador-frontend-senior-canvia-1117964197.html',\n",
       " 'https://www.bumeran.com.pe/empleos/analista-programador-1117964091.html',\n",
       " 'https://www.bumeran.com.pe/empleos/backend-developer-senior-culqi-talent2win-1117963319.html',\n",
       " 'https://www.bumeran.com.pe/empleos/analista-programador-universidad-de-san-martin-de-porres-1117963157.html',\n",
       " 'https://www.bumeran.com.pe/empleos/analista-programador-java-oracle-presencial-hitss-peru-1117963095.html',\n",
       " 'https://www.bumeran.com.pe/empleos/soporte-jr-de-aplicaciones-linux-plsql-hitss-peru-1117963093.html',\n",
       " 'https://www.bumeran.com.pe/empleos/analista-programador-java-valtx-1117962716.html',\n",
       " 'https://www.bumeran.com.pe/empleos/analista-programador-postgre-oracle-hibrido-green-solutions-1117962598.html',\n",
       " 'https://www.bumeran.com.pe/empleos/frontend-developer-angular-experis-peru-1117962336.html',\n",
       " 'https://www.bumeran.com.pe/empleos/desarrollador-frontend-senior-remoto-csti-corp-1117962091.html',\n",
       " 'https://www.bumeran.com.pe/empleos/desarrollador-backend-java-inetum-peru-1117961759.html',\n",
       " 'https://www.bumeran.com.pe/empleos/desarrollador-fullstack-semiseniorjava-angular-csti-corp-1117961713.html',\n",
       " 'https://www.bumeran.com.pe/empleos/analista-programador-full-stack-universidad-de-ingenieria-y-tecnologia-utec-1117961694.html',\n",
       " 'https://www.bumeran.com.pe/empleos/desarrollador-.net-php-indra-peru-1117961552.html',\n",
       " 'https://www.bumeran.com.pe/empleos/desarrollador-python-odoo-ibr-peru-s.a.-1117961539.html',\n",
       " 'https://www.bumeran.com.pe/empleos/desarrollador-backend-javascript-senior-csti-corp-1117961392.html',\n",
       " 'https://www.bumeran.com.pe/empleos/desarrollador-fullsatck-enfoque-en-frontend-fractal-soluciones-it-1117962666.html',\n",
       " 'https://www.bumeran.com.pe/empleos/practicante-de-digitalizacion-repsol-1117960947.html',\n",
       " 'https://www.bumeran.com.pe/empleos/analista-programador-java-microservicios-canvia-1117960644.html',\n",
       " 'https://www.bumeran.com.pe/empleos/programador-1117960615.html',\n",
       " 'https://www.bumeran.com.pe/empleos/analista-programador-frontend-angular-canvia-1117960612.html',\n",
       " 'https://www.bumeran.com.pe/empleos/practicante-profesional-programacion-plsql-indra-peru-1117960022.html',\n",
       " 'https://www.bumeran.com.pe/empleos/tech-lead-lider-tecnico-frontend-react-nextjs-zutun.-1117959935.html',\n",
       " 'https://www.bumeran.com.pe/empleos/practicante-profesional-desarrollador-pl-sql-indra-peru-1117941356.html',\n",
       " 'https://www.bumeran.com.pe/empleos/analista-programador-visual-basic-.net-idm-technology-1117979310.html',\n",
       " 'https://www.bumeran.com.pe/empleos/desarrollador-java-mobile-red-educativa-le-cordon-bleu-1117979044.html',\n",
       " 'https://www.bumeran.com.pe/empleos/desarrollador-full-stack-grupo-red-salud-1117971064.html',\n",
       " 'https://www.bumeran.com.pe/empleos/programador-de-inteligencia-artificial-growth-digital-lab-1117968752.html',\n",
       " 'https://www.bumeran.com.pe/empleos/desarrollador-de-sistemas-intelitech-peru-s.a.c.-1117964390.html',\n",
       " 'https://www.bumeran.com.pe/empleos/desarrollador-full-stack-igts-sac-1117965145.html',\n",
       " 'https://www.bumeran.com.pe/empleos/analista-programador-fullstack-isp-consulting-1117960954.html']"
      ]
     },
     "execution_count": 5,
     "metadata": {},
     "output_type": "execute_result"
    }
   ],
   "source": [
    "all_jobs = [url for url in all_jobs if url.endswith(\".html\")]\n",
    "all_jobs = [url for url in all_jobs if url != 'https://www.bumeran.com.pe/en-lima/empleos-area-tecnologia-sistemas-y-telecomunicaciones-subarea-programacion-full-time-publicacion-menor-a-15-dias.html']\n",
    "all_jobs"
   ]
  },
  {
   "cell_type": "code",
   "execution_count": 6,
   "id": "1c5366a9-b42e-4fd4-8289-3b5cae81f93b",
   "metadata": {},
   "outputs": [],
   "source": [
    "# Hacemos el ejercicio para un primer post\n",
    "driver = webdriver.Chrome()\n",
    "driver.get(\"https://www.bumeran.com.pe/empleos/software-engineer-senior-grupo-gloria-1117976663.html\")\n",
    "time.sleep(5)\n",
    "driver.maximize_window() "
   ]
  },
  {
   "cell_type": "code",
   "execution_count": 7,
   "id": "445fab47-50ba-428b-bb25-170d950cb86d",
   "metadata": {},
   "outputs": [
    {
     "name": "stdout",
     "output_type": "stream",
     "text": [
      "Software Engineer Senior\n"
     ]
    }
   ],
   "source": [
    "# Título\n",
    "titulo_prueba = WebDriverWait(driver, 5).until(\n",
    "    EC.presence_of_element_located((By.TAG_NAME, \"h1\"))\n",
    ")\n",
    "print(titulo_prueba.text)"
   ]
  },
  {
   "cell_type": "code",
   "execution_count": 9,
   "id": "9f84bd14-ca71-4cbe-9f11-25e1c1bd9a88",
   "metadata": {},
   "outputs": [],
   "source": [
    "# Descripción\n",
    "descripcion_prueba = WebDriverWait(driver, 10).until(\n",
    "    EC.presence_of_element_located(\n",
    "        (By.XPATH, \"//div[contains(., 'Detalle del empleo')][contains(., 'Descripción del puesto')]\")\n",
    "    )\n",
    ")\n",
    "\n",
    "texto_completo = descripcion_prueba.text"
   ]
  },
  {
   "cell_type": "code",
   "execution_count": 10,
   "id": "a7a32e7f-c56b-4f27-b716-a6bb98137cc6",
   "metadata": {},
   "outputs": [
    {
     "name": "stdout",
     "output_type": "stream",
     "text": [
      "Descripción del puesto\n",
      "Centro, empresa de Tecnología, perteneciente al Grupo Gloria, como parte de su plan de crecimiento, se encuentra en la búsqueda de los mejores talentos para ocupar la posición de:\n",
      "Software Engineer Senior\n",
      "Misión:\n",
      "Responsable del desarrollo, mantenimiento y soporte a Aplicaciones Web & Mobile tanto a nivel de BackEnd y FrontEnd. Analisis técnico, sinergias con seguridad de la información, Arquitectura e infraestructura y elaborar propuesta de como desarrollar soluciones digitales escalables y robustas. Se debe garantizar la continuidad y persistencia principalmente de la solución de facturación electronica del Grupo, asi como otras soluciones relacionadas.\n",
      "Funciones:\n",
      "Desarrollar tanto el BackEnd y FrontEnd de las aplicaciones Web & Mobile.\n",
      "Diseño y desarrollo de base de datos relacional.\n",
      "Mantenimiento de Aplicaciones Digitales Lecacys existentes.\n",
      "Desarrollo sobre Componentes AWS.\n",
      "Implementación & Despliegue Continuo Basico ( DevOps )\n",
      "Elaboración de Propuesta Tecnica\n",
      "Soporte a Incidentes de Aplicaciones Existentes.\n",
      "Requisitos:\n",
      "Universitario egresado de la carrera de Ingeniería de Sistemas, Software y/o afines.\n",
      "Ingles a nivel intermedio.\n",
      "Metodología ágil Scrum y tradicional\n",
      "Desarrollo BackEnd ( Java Sprint Boot/Quakus, VB.net, Node Js, TypeScript, JavaScript, Nest Js).\n",
      "Desarrollo FrontEnd ( React, React Native, Next, TypeScript, StoryBook , React Query )\n",
      "Base de Datos (SQL Server, PostgresSQL, Aurora DB,MySQL )\n",
      "Herramientas de Control y versiona miento de código fuente ( BitBucket )\n",
      "Implementación & Despliegue Continuo DevOps\n",
      "Desarrollo sobre componentes AWS\n",
      "Integración con sistemas legales, SAP & Seguridad de la Información.\n"
     ]
    }
   ],
   "source": [
    "# Buscar posiciones dentro del string\n",
    "inicio_prueba = texto_completo.find(\"Descripción del puesto\")\n",
    "\n",
    "# Buscar el fin: primero buscamos \"Beneficios\", si no está, buscamos \"¿Qué ofrecemos?\"\n",
    "fin_prueba_beneficios = texto_completo.find(\"Beneficios\")\n",
    "fin_prueba_que_ofrecemos = texto_completo.find(\"¿Qué ofrecemos?\")\n",
    "\n",
    "# Tomar la posición válida más cercana al inicio\n",
    "fin_prueba = -1\n",
    "if fin_prueba_beneficios != -1 and fin_prueba_que_ofrecemos != -1:\n",
    "    fin_prueba = min(fin_prueba_beneficios, fin_prueba_que_ofrecemos)\n",
    "elif fin_prueba_beneficios != -1:\n",
    "    fin_prueba = fin_prueba_beneficios\n",
    "elif fin_prueba_que_ofrecemos != -1:\n",
    "    fin_prueba = fin_prueba_que_ofrecemos\n",
    "\n",
    "# Extraer texto\n",
    "if inicio_prueba != -1 and fin_prueba != -1:\n",
    "    descripcion_limpia = texto_completo[inicio_prueba:fin_prueba].strip()\n",
    "else:\n",
    "    descripcion_limpia = \"No se pudo aislar la descripción\"\n",
    "\n",
    "print(descripcion_limpia)"
   ]
  },
  {
   "cell_type": "code",
   "execution_count": 11,
   "id": "efb47d68-b5d3-4d3f-afce-4bb4121c56f7",
   "metadata": {},
   "outputs": [
    {
     "name": "stdout",
     "output_type": "stream",
     "text": [
      "Lista de <h2> encontrados:\n",
      "1. Bolsa de empleo\n",
      "Tecnología, Sistemas y Telecomunicaciones\n",
      "Programación\n",
      "Lima\n",
      "La Victoria\n",
      "PresencialSoftware Engineer Senior\n",
      "2. Actualizado hace 2 horas\n",
      "3. La Victoria, Lima, Peru\n",
      "4. Analista Programador Postgre/Oracle/Híbrido\n",
      "5. Practicante pre profesional de automatización\n",
      "6. Analista Programador Fullstack Java\n",
      "7. Desarrollador Genexus - Remoto\n",
      "8. ANALISTA PROGRAMADOR .NET/SQLSERVER\n",
      "Distrito: La Victoria\n"
     ]
    }
   ],
   "source": [
    "# Distrito\n",
    "h2_tags = driver.find_elements(By.TAG_NAME, \"h2\")\n",
    "\n",
    "print(\"Lista de <h2> encontrados:\")\n",
    "for i, tag in enumerate(h2_tags, start=1):\n",
    "    print(f\"{i}. {tag.text}\")\n",
    "\n",
    "# Nos quedamos con el tercer elemento (índice 2 porque empieza en 0)\n",
    "distrito_text = h2_tags[2].text  \n",
    "\n",
    "# Nos quedamos solo con la parte antes de la primera coma\n",
    "distrito = distrito_text.split(\",\")[0].strip()\n",
    "\n",
    "print(\"Distrito:\", distrito)"
   ]
  },
  {
   "cell_type": "code",
   "execution_count": 12,
   "id": "c2da63d4-2cb9-4605-a7b8-9d5f8d1f486d",
   "metadata": {},
   "outputs": [
    {
     "name": "stdout",
     "output_type": "stream",
     "text": [
      "La Victoria\n"
     ]
    }
   ],
   "source": [
    "# Nos quedamos con el tercer elemento (índice 2 porque empieza en 0)\n",
    "distrito_text = h2_tags[2].text  \n",
    "\n",
    "# Nos quedamos solo con la parte antes de la primera coma\n",
    "distrito = distrito_text.split(\",\")[0].strip()\n",
    "\n",
    "print(distrito)"
   ]
  },
  {
   "cell_type": "code",
   "execution_count": 13,
   "id": "e4fff2c7-7072-443c-bc79-0253bae4cc90",
   "metadata": {},
   "outputs": [
    {
     "name": "stdout",
     "output_type": "stream",
     "text": [
      "Presencial\n"
     ]
    }
   ],
   "source": [
    "#Modalidad\n",
    "\n",
    "modalidades_validas = [\"Presencial\", \"Remoto\", \"Híbrido\"]\n",
    "\n",
    "# Crear lista de modalidades\n",
    "lista_modalidades = [\n",
    "    next((m for m in modalidades_validas if m in tag.text), \"No se especifica\")\n",
    "    for tag in h2_tags\n",
    "]\n",
    "\n",
    "# Guardar el primer resultado en una variable\n",
    "primer_modalidad = lista_modalidades[0]\n",
    "print(primer_modalidad)"
   ]
  },
  {
   "cell_type": "code",
   "execution_count": 14,
   "id": "2e794f60-a2f9-463a-aecf-3a937c0db1ca",
   "metadata": {},
   "outputs": [
    {
     "name": "stdout",
     "output_type": "stream",
     "text": [
      "                                       Job Title  \\\n",
      "0                       Software Engineer Senior   \n",
      "1                    Programador Frontend Senior   \n",
      "2                      Analista Programador Java   \n",
      "3    Analista Programador Postgre/Oracle/Híbrido   \n",
      "4                Analista Programador - Sede ATE   \n",
      "..                                           ...   \n",
      "104                     Desarrollador Full Stack   \n",
      "105       Programador de Inteligencia Artificial   \n",
      "106                    Desarrollador de Sistemas   \n",
      "107                     Desarrollador Full Stack   \n",
      "108               Analista programador Fullstack   \n",
      "\n",
      "                                           Description     District  \\\n",
      "0    Descripción del puesto Centro, empresa de Tecn...  La Victoria   \n",
      "1    Descripción del puesto Vive la experiencia SON...         Lima   \n",
      "2    Descripción del puesto Analista Programador Ja...         Lima   \n",
      "3    Descripción del puesto Por encargo de nuestro ...    San Borja   \n",
      "4    Descripción del puesto ¡Buscamos a nuestro pró...          Ate   \n",
      "..                                                 ...          ...   \n",
      "104  Descripción del puesto ¡Hola talentos! Somos u...   Miraflores   \n",
      "105  Descripción del puesto Analista de Desarrollo ...         Lima   \n",
      "106  Descripción del puesto En Intelitech Perú, bus...         Lima   \n",
      "107  Descripción del puesto Desarrollador Full Stac...    Antioquia   \n",
      "108  Descripción del puesto Requisitos - Conocimien...   San Isidro   \n",
      "\n",
      "      Work Mode  \n",
      "0    Presencial  \n",
      "1        Remoto  \n",
      "2    Presencial  \n",
      "3       Híbrido  \n",
      "4    Presencial  \n",
      "..          ...  \n",
      "104  Presencial  \n",
      "105  Presencial  \n",
      "106  Presencial  \n",
      "107  Presencial  \n",
      "108  Presencial  \n",
      "\n",
      "[109 rows x 4 columns]\n"
     ]
    }
   ],
   "source": [
    "# Generalización\n",
    "\n",
    "job_urls = all_jobs\n",
    "\n",
    "# Modalidades posibles\n",
    "modalidades_validas = [\"Presencial\", \"Remoto\", \"Híbrido\"]\n",
    "\n",
    "# Lista para guardar los datos\n",
    "data = []\n",
    "\n",
    "# Iniciar navegador\n",
    "driver = webdriver.Chrome()\n",
    "driver.maximize_window()\n",
    "\n",
    "for url in job_urls:\n",
    "    driver.get(url)\n",
    "    time.sleep(5)  # esperar que cargue la página\n",
    "    \n",
    "    # ---------------- Job Title ----------------\n",
    "    try:\n",
    "        titulo_elem = WebDriverWait(driver, 5).until(\n",
    "            EC.presence_of_element_located((By.TAG_NAME, \"h1\"))\n",
    "        )\n",
    "        titulo = titulo_elem.text.strip()\n",
    "    except:\n",
    "        titulo = \"No se pudo extraer título\"\n",
    "    \n",
    "    # ---------------- Description ----------------\n",
    "    try:\n",
    "        descripcion_elem = WebDriverWait(driver, 10).until(\n",
    "            EC.presence_of_element_located(\n",
    "                (By.XPATH, \"//div[contains(., 'Detalle del empleo')][contains(., 'Descripción del puesto')]\")\n",
    "            )\n",
    "        )\n",
    "        texto_completo = descripcion_elem.text\n",
    "\n",
    "        # Buscar inicio\n",
    "        inicio = texto_completo.find(\"Descripción del puesto\")\n",
    "\n",
    "        # Lista de posibles finales\n",
    "        posibles_fines = [\n",
    "            \"Beneficios\", \"BENEFICIOS\",\n",
    "            \"Motivos por los que\",\n",
    "            \"¿Qué ofrecemos?\", \"OFRECEMOS\", \"Ofrecemos\",\n",
    "            \"Lo que te ofrecemos\", \"LO QUE TE OFRECEMOS\",\n",
    "            \"Te ofrecemos\", \"TE OFRECEMOS\"\n",
    "        ]\n",
    "\n",
    "        # Buscar la posición de cada posible final\n",
    "        posiciones_fines = [texto_completo.find(fin) for fin in posibles_fines if texto_completo.find(fin) != -1]\n",
    "\n",
    "        # Determinar fin\n",
    "        fin = -1\n",
    "        if posiciones_fines:\n",
    "            fin = min(posiciones_fines)\n",
    "\n",
    "        # Extraer descripción según los índices\n",
    "        if inicio != -1 and fin != -1:\n",
    "            descripcion = texto_completo[inicio:fin].strip()\n",
    "        elif inicio != -1:\n",
    "            descripcion = texto_completo[inicio:].strip()\n",
    "        else:\n",
    "            descripcion = \"No se pudo extraer descripción\"\n",
    "\n",
    "        # Limpiar saltos de línea\n",
    "        descripcion = descripcion.replace(\"\\n\", \" \").replace(\"\\r\", \" \")\n",
    "\n",
    "    except:\n",
    "        descripcion = \"No se pudo extraer descripción\"\n",
    "    \n",
    "    # ---------------- District ----------------\n",
    "    try:\n",
    "        h2_tags = driver.find_elements(By.TAG_NAME, \"h2\")\n",
    "        if len(h2_tags) >= 3:\n",
    "            distrito_text = h2_tags[2].text\n",
    "            distrito = distrito_text.split(\",\")[0].strip()\n",
    "        else:\n",
    "            distrito = \"No se especifica\"\n",
    "    except:\n",
    "        distrito = \"No se especifica\"\n",
    "    \n",
    "    # ---------------- Work Mode ----------------\n",
    "    try:\n",
    "        lista_modalidades = [\n",
    "            next((m for m in modalidades_validas if m in tag.text), \"No se especifica\")\n",
    "            for tag in h2_tags\n",
    "        ]\n",
    "        work_mode = lista_modalidades[0] if lista_modalidades else \"No se especifica\"\n",
    "    except:\n",
    "        work_mode = \"No se especifica\"\n",
    "    \n",
    "    # Guardar la fila\n",
    "    data.append([titulo, descripcion, distrito, work_mode])\n",
    "\n",
    "driver.quit()\n",
    "\n",
    "# ---------------- Crear DataFrame ----------------\n",
    "df = pd.DataFrame(data, columns=[\"Job Title\", \"Description\", \"District\", \"Work Mode\"])\n",
    "\n",
    "# Mostrar DataFrame\n",
    "print(df)"
   ]
  },
  {
   "cell_type": "code",
   "execution_count": 18,
   "id": "f6cb3535-f33b-4d97-9909-b9a96bb6f05e",
   "metadata": {},
   "outputs": [],
   "source": [
    "# Guardar a CSV\n",
    "df.to_csv(\"../salida/empleos.csv\", index=False, sep=\";\", encoding=\"utf-8-sig\")"
   ]
  }
 ],
 "metadata": {
  "kernelspec": {
   "display_name": "Python 3 (ipykernel)",
   "language": "python",
   "name": "python3"
  },
  "language_info": {
   "codemirror_mode": {
    "name": "ipython",
    "version": 3
   },
   "file_extension": ".py",
   "mimetype": "text/x-python",
   "name": "python",
   "nbconvert_exporter": "python",
   "pygments_lexer": "ipython3",
   "version": "3.13.7"
  }
 },
 "nbformat": 4,
 "nbformat_minor": 5
}
